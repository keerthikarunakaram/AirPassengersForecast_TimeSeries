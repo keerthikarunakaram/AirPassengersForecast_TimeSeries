{
 "cells": [
  {
   "cell_type": "code",
   "execution_count": 1,
   "id": "a696e229",
   "metadata": {},
   "outputs": [],
   "source": [
    "#Basic packages\n",
    "import os\n",
    "import numpy as np\n",
    "import pandas as pd\n",
    "import matplotlib.pyplot as plt\n",
    "import seaborn as sns\n",
    "%matplotlib inline\n",
    "\n",
    "import warnings\n",
    "warnings.filterwarnings('ignore')"
   ]
  },
  {
   "cell_type": "code",
   "execution_count": 2,
   "id": "e5739402",
   "metadata": {},
   "outputs": [
    {
     "data": {
      "text/plain": [
       "'C:\\\\Users\\\\k.laxmi.keerti\\\\Time Series Analysis  & Forecasting'"
      ]
     },
     "execution_count": 2,
     "metadata": {},
     "output_type": "execute_result"
    }
   ],
   "source": [
    "os.getcwd()"
   ]
  },
  {
   "cell_type": "code",
   "execution_count": 3,
   "id": "f0c42567",
   "metadata": {},
   "outputs": [],
   "source": [
    "dataset=pd.read_csv('airline_passengers.csv')"
   ]
  },
  {
   "cell_type": "code",
   "execution_count": 4,
   "id": "624b0fc2",
   "metadata": {},
   "outputs": [
    {
     "data": {
      "text/html": [
       "<div>\n",
       "<style scoped>\n",
       "    .dataframe tbody tr th:only-of-type {\n",
       "        vertical-align: middle;\n",
       "    }\n",
       "\n",
       "    .dataframe tbody tr th {\n",
       "        vertical-align: top;\n",
       "    }\n",
       "\n",
       "    .dataframe thead th {\n",
       "        text-align: right;\n",
       "    }\n",
       "</style>\n",
       "<table border=\"1\" class=\"dataframe\">\n",
       "  <thead>\n",
       "    <tr style=\"text-align: right;\">\n",
       "      <th></th>\n",
       "      <th>Month</th>\n",
       "      <th>Thousand of Passengers</th>\n",
       "    </tr>\n",
       "  </thead>\n",
       "  <tbody>\n",
       "    <tr>\n",
       "      <th>0</th>\n",
       "      <td>1949-01</td>\n",
       "      <td>112</td>\n",
       "    </tr>\n",
       "    <tr>\n",
       "      <th>1</th>\n",
       "      <td>1949-02</td>\n",
       "      <td>118</td>\n",
       "    </tr>\n",
       "    <tr>\n",
       "      <th>2</th>\n",
       "      <td>1949-03</td>\n",
       "      <td>132</td>\n",
       "    </tr>\n",
       "    <tr>\n",
       "      <th>3</th>\n",
       "      <td>1949-04</td>\n",
       "      <td>129</td>\n",
       "    </tr>\n",
       "    <tr>\n",
       "      <th>4</th>\n",
       "      <td>1949-05</td>\n",
       "      <td>121</td>\n",
       "    </tr>\n",
       "  </tbody>\n",
       "</table>\n",
       "</div>"
      ],
      "text/plain": [
       "     Month  Thousand of Passengers\n",
       "0  1949-01                     112\n",
       "1  1949-02                     118\n",
       "2  1949-03                     132\n",
       "3  1949-04                     129\n",
       "4  1949-05                     121"
      ]
     },
     "execution_count": 4,
     "metadata": {},
     "output_type": "execute_result"
    }
   ],
   "source": [
    "dataset.head()"
   ]
  },
  {
   "cell_type": "code",
   "execution_count": 5,
   "id": "993060b4",
   "metadata": {},
   "outputs": [],
   "source": [
    " # YYYY-MM-DD format to predict passenger travelling month wise.\n",
    " #Here DD is not given so it will take 1st day of that month as DD by default"
   ]
  },
  {
   "cell_type": "markdown",
   "id": "bf6b6517",
   "metadata": {},
   "source": [
    "### Time Series Analysis"
   ]
  },
  {
   "cell_type": "code",
   "execution_count": 6,
   "id": "263e9457",
   "metadata": {},
   "outputs": [],
   "source": [
    "from datetime import datetime"
   ]
  },
  {
   "cell_type": "code",
   "execution_count": 7,
   "id": "ca767100",
   "metadata": {},
   "outputs": [],
   "source": [
    "dataset['Month']=pd.to_datetime(dataset['Month']) # convert it to YYYY-MM-DD format"
   ]
  },
  {
   "cell_type": "code",
   "execution_count": 8,
   "id": "27cf3f67",
   "metadata": {},
   "outputs": [
    {
     "data": {
      "text/html": [
       "<div>\n",
       "<style scoped>\n",
       "    .dataframe tbody tr th:only-of-type {\n",
       "        vertical-align: middle;\n",
       "    }\n",
       "\n",
       "    .dataframe tbody tr th {\n",
       "        vertical-align: top;\n",
       "    }\n",
       "\n",
       "    .dataframe thead th {\n",
       "        text-align: right;\n",
       "    }\n",
       "</style>\n",
       "<table border=\"1\" class=\"dataframe\">\n",
       "  <thead>\n",
       "    <tr style=\"text-align: right;\">\n",
       "      <th></th>\n",
       "      <th>Month</th>\n",
       "      <th>Thousand of Passengers</th>\n",
       "    </tr>\n",
       "  </thead>\n",
       "  <tbody>\n",
       "    <tr>\n",
       "      <th>0</th>\n",
       "      <td>1949-01-01</td>\n",
       "      <td>112</td>\n",
       "    </tr>\n",
       "    <tr>\n",
       "      <th>1</th>\n",
       "      <td>1949-02-01</td>\n",
       "      <td>118</td>\n",
       "    </tr>\n",
       "    <tr>\n",
       "      <th>2</th>\n",
       "      <td>1949-03-01</td>\n",
       "      <td>132</td>\n",
       "    </tr>\n",
       "    <tr>\n",
       "      <th>3</th>\n",
       "      <td>1949-04-01</td>\n",
       "      <td>129</td>\n",
       "    </tr>\n",
       "    <tr>\n",
       "      <th>4</th>\n",
       "      <td>1949-05-01</td>\n",
       "      <td>121</td>\n",
       "    </tr>\n",
       "  </tbody>\n",
       "</table>\n",
       "</div>"
      ],
      "text/plain": [
       "       Month  Thousand of Passengers\n",
       "0 1949-01-01                     112\n",
       "1 1949-02-01                     118\n",
       "2 1949-03-01                     132\n",
       "3 1949-04-01                     129\n",
       "4 1949-05-01                     121"
      ]
     },
     "execution_count": 8,
     "metadata": {},
     "output_type": "execute_result"
    }
   ],
   "source": [
    "dataset.head()"
   ]
  },
  {
   "cell_type": "code",
   "execution_count": 9,
   "id": "8b6a9702",
   "metadata": {},
   "outputs": [],
   "source": [
    "# set month as a index value\n",
    " \n",
    "dataset.set_index('Month',inplace=True)"
   ]
  },
  {
   "cell_type": "code",
   "execution_count": 10,
   "id": "c094770d",
   "metadata": {},
   "outputs": [
    {
     "data": {
      "text/html": [
       "<div>\n",
       "<style scoped>\n",
       "    .dataframe tbody tr th:only-of-type {\n",
       "        vertical-align: middle;\n",
       "    }\n",
       "\n",
       "    .dataframe tbody tr th {\n",
       "        vertical-align: top;\n",
       "    }\n",
       "\n",
       "    .dataframe thead th {\n",
       "        text-align: right;\n",
       "    }\n",
       "</style>\n",
       "<table border=\"1\" class=\"dataframe\">\n",
       "  <thead>\n",
       "    <tr style=\"text-align: right;\">\n",
       "      <th></th>\n",
       "      <th>Thousand of Passengers</th>\n",
       "    </tr>\n",
       "    <tr>\n",
       "      <th>Month</th>\n",
       "      <th></th>\n",
       "    </tr>\n",
       "  </thead>\n",
       "  <tbody>\n",
       "    <tr>\n",
       "      <th>1949-01-01</th>\n",
       "      <td>112</td>\n",
       "    </tr>\n",
       "    <tr>\n",
       "      <th>1949-02-01</th>\n",
       "      <td>118</td>\n",
       "    </tr>\n",
       "    <tr>\n",
       "      <th>1949-03-01</th>\n",
       "      <td>132</td>\n",
       "    </tr>\n",
       "    <tr>\n",
       "      <th>1949-04-01</th>\n",
       "      <td>129</td>\n",
       "    </tr>\n",
       "    <tr>\n",
       "      <th>1949-05-01</th>\n",
       "      <td>121</td>\n",
       "    </tr>\n",
       "  </tbody>\n",
       "</table>\n",
       "</div>"
      ],
      "text/plain": [
       "            Thousand of Passengers\n",
       "Month                             \n",
       "1949-01-01                     112\n",
       "1949-02-01                     118\n",
       "1949-03-01                     132\n",
       "1949-04-01                     129\n",
       "1949-05-01                     121"
      ]
     },
     "execution_count": 10,
     "metadata": {},
     "output_type": "execute_result"
    }
   ],
   "source": [
    "dataset.head()"
   ]
  },
  {
   "cell_type": "code",
   "execution_count": 11,
   "id": "04537e07",
   "metadata": {},
   "outputs": [
    {
     "data": {
      "image/png": "[encoded data removed]",
      "text/plain": [
       "<Figure size 432x288 with 1 Axes>"
      ]
     },
     "metadata": {
      "needs_background": "light"
     },
     "output_type": "display_data"
    }
   ],
   "source": [
    "dataset.plot()\n",
    "plt.show()"
   ]
  },
  {
   "cell_type": "code",
   "execution_count": 12,
   "id": "a8197d8f",
   "metadata": {},
   "outputs": [
    {
     "data": {
      "image/png": "[encoded data removed]",
      "text/plain": [
       "<Figure size 432x288 with 4 Axes>"
      ]
     },
     "metadata": {
      "needs_background": "light"
     },
     "output_type": "display_data"
    }
   ],
   "source": [
    "# Decomposition to check dataset component\n",
    "\n",
    "from statsmodels.tsa.seasonal import seasonal_decompose\n",
    "decomposition=seasonal_decompose(dataset['Thousand of Passengers'],period=12)\n",
    "decomposition.plot()\n",
    "plt.show()\n"
   ]
  },
  {
   "cell_type": "markdown",
   "id": "b909a358",
   "metadata": {},
   "source": [
    "1. It shows upward trend.\n",
    "2. It shows seasonality as it shows pattern of high & low ends\n",
    "3. there are some residual(irregular/white noise) data over the 12 months period which we don't have idea about."
   ]
  },
  {
   "cell_type": "code",
   "execution_count": 13,
   "id": "bd0b4454",
   "metadata": {},
   "outputs": [],
   "source": [
    "# To check whether data is stationary or non-stationary\n",
    "# check name - \"Augmented Dickey Fuller Test\" - this is mandatory step in ML\n",
    "\n",
    "from statsmodels.tsa.stattools import adfuller"
   ]
  },
  {
   "cell_type": "code",
   "execution_count": 14,
   "id": "27ecce44",
   "metadata": {},
   "outputs": [
    {
     "data": {
      "text/plain": [
       "(0.8153688792060569,\n",
       " 0.9918802434376411,\n",
       " 13,\n",
       " 130,\n",
       " {'1%': -3.4816817173418295,\n",
       "  '5%': -2.8840418343195267,\n",
       "  '10%': -2.578770059171598},\n",
       " 996.6929308390189)"
      ]
     },
     "execution_count": 14,
     "metadata": {},
     "output_type": "execute_result"
    }
   ],
   "source": [
    "adfuller(dataset['Thousand of Passengers'])"
   ]
  },
  {
   "cell_type": "code",
   "execution_count": 15,
   "id": "f74bb226",
   "metadata": {},
   "outputs": [],
   "source": [
    "def adf_check(timeseries):\n",
    "    result=adfuller(timeseries)\n",
    "    print(\"Augmented Dickey Fuller Test - Stationary or Non-Stationary\")\n",
    "    labels=['ADF Test Statistics','p-value','#Lags','No. of Observation(n)']\n",
    "    for a,b in zip(result,labels):\n",
    "        print(b + \" : \"+ str(a))\n",
    "        \n",
    "    if result[1]<=0.05:\n",
    "        print(\"Strong evidence against null hypothesis & my timeseries is Stationary\")\n",
    "    else:\n",
    "        print(\"Weak evidence against null hypothesis & my timeseries is Non-Stationary\")"
   ]
  },
  {
   "cell_type": "code",
   "execution_count": 16,
   "id": "89974ac1",
   "metadata": {},
   "outputs": [
    {
     "name": "stdout",
     "output_type": "stream",
     "text": [
      "Augmented Dickey Fuller Test - Stationary or Non-Stationary\n",
      "ADF Test Statistics : 0.8153688792060569\n",
      "p-value : 0.9918802434376411\n",
      "#Lags : 13\n",
      "No. of Observation(n) : 130\n",
      "Weak evidence against null hypothesis & my timeseries is Non-Stationary\n"
     ]
    }
   ],
   "source": [
    "adf_check(dataset['Thousand of Passengers'])"
   ]
  },
  {
   "cell_type": "markdown",
   "id": "03ec9fe1",
   "metadata": {},
   "source": [
    "here as it is non-stationary so it can't be used for time series model so first we need to make it stationary.\n",
    "We can make it stationary using lag function"
   ]
  },
  {
   "cell_type": "code",
   "execution_count": 17,
   "id": "06cc66f1",
   "metadata": {},
   "outputs": [],
   "source": [
    "# Here we will create new column 1st differnce which will calculate the difference between original & shifted values\n",
    "dataset['1st Difference']=dataset['Thousand of Passengers'] - dataset['Thousand of Passengers'].shift(1)"
   ]
  },
  {
   "cell_type": "code",
   "execution_count": 18,
   "id": "664e3075",
   "metadata": {},
   "outputs": [
    {
     "data": {
      "text/html": [
       "<div>\n",
       "<style scoped>\n",
       "    .dataframe tbody tr th:only-of-type {\n",
       "        vertical-align: middle;\n",
       "    }\n",
       "\n",
       "    .dataframe tbody tr th {\n",
       "        vertical-align: top;\n",
       "    }\n",
       "\n",
       "    .dataframe thead th {\n",
       "        text-align: right;\n",
       "    }\n",
       "</style>\n",
       "<table border=\"1\" class=\"dataframe\">\n",
       "  <thead>\n",
       "    <tr style=\"text-align: right;\">\n",
       "      <th></th>\n",
       "      <th>Thousand of Passengers</th>\n",
       "      <th>1st Difference</th>\n",
       "    </tr>\n",
       "    <tr>\n",
       "      <th>Month</th>\n",
       "      <th></th>\n",
       "      <th></th>\n",
       "    </tr>\n",
       "  </thead>\n",
       "  <tbody>\n",
       "    <tr>\n",
       "      <th>1949-01-01</th>\n",
       "      <td>112</td>\n",
       "      <td>NaN</td>\n",
       "    </tr>\n",
       "    <tr>\n",
       "      <th>1949-02-01</th>\n",
       "      <td>118</td>\n",
       "      <td>6.0</td>\n",
       "    </tr>\n",
       "    <tr>\n",
       "      <th>1949-03-01</th>\n",
       "      <td>132</td>\n",
       "      <td>14.0</td>\n",
       "    </tr>\n",
       "    <tr>\n",
       "      <th>1949-04-01</th>\n",
       "      <td>129</td>\n",
       "      <td>-3.0</td>\n",
       "    </tr>\n",
       "    <tr>\n",
       "      <th>1949-05-01</th>\n",
       "      <td>121</td>\n",
       "      <td>-8.0</td>\n",
       "    </tr>\n",
       "  </tbody>\n",
       "</table>\n",
       "</div>"
      ],
      "text/plain": [
       "            Thousand of Passengers  1st Difference\n",
       "Month                                             \n",
       "1949-01-01                     112             NaN\n",
       "1949-02-01                     118             6.0\n",
       "1949-03-01                     132            14.0\n",
       "1949-04-01                     129            -3.0\n",
       "1949-05-01                     121            -8.0"
      ]
     },
     "execution_count": 18,
     "metadata": {},
     "output_type": "execute_result"
    }
   ],
   "source": [
    "dataset.head()"
   ]
  },
  {
   "cell_type": "code",
   "execution_count": 19,
   "id": "76140ab2",
   "metadata": {},
   "outputs": [
    {
     "name": "stdout",
     "output_type": "stream",
     "text": [
      "Augmented Dickey Fuller Test - Stationary or Non-Stationary\n",
      "ADF Test Statistics : -2.8292668241699928\n",
      "p-value : 0.05421329028382636\n",
      "#Lags : 12\n",
      "No. of Observation(n) : 130\n",
      "Weak evidence against null hypothesis & my timeseries is Non-Stationary\n"
     ]
    }
   ],
   "source": [
    "# Will check if new column data is stationary or not\n",
    "# As there are missing values we need to drop them\n",
    "adf_check(dataset['1st Difference'].dropna())"
   ]
  },
  {
   "cell_type": "code",
   "execution_count": 20,
   "id": "6b348339",
   "metadata": {},
   "outputs": [],
   "source": [
    "# As 1st diff is still non-stationary, we have to create 2nd diff\n",
    "\n",
    "dataset['2nd Difference']=dataset['1st Difference']-dataset['1st Difference'].shift(1)"
   ]
  },
  {
   "cell_type": "code",
   "execution_count": 21,
   "id": "f88aada4",
   "metadata": {},
   "outputs": [
    {
     "data": {
      "text/html": [
       "<div>\n",
       "<style scoped>\n",
       "    .dataframe tbody tr th:only-of-type {\n",
       "        vertical-align: middle;\n",
       "    }\n",
       "\n",
       "    .dataframe tbody tr th {\n",
       "        vertical-align: top;\n",
       "    }\n",
       "\n",
       "    .dataframe thead th {\n",
       "        text-align: right;\n",
       "    }\n",
       "</style>\n",
       "<table border=\"1\" class=\"dataframe\">\n",
       "  <thead>\n",
       "    <tr style=\"text-align: right;\">\n",
       "      <th></th>\n",
       "      <th>Thousand of Passengers</th>\n",
       "      <th>1st Difference</th>\n",
       "      <th>2nd Difference</th>\n",
       "    </tr>\n",
       "    <tr>\n",
       "      <th>Month</th>\n",
       "      <th></th>\n",
       "      <th></th>\n",
       "      <th></th>\n",
       "    </tr>\n",
       "  </thead>\n",
       "  <tbody>\n",
       "    <tr>\n",
       "      <th>1949-01-01</th>\n",
       "      <td>112</td>\n",
       "      <td>NaN</td>\n",
       "      <td>NaN</td>\n",
       "    </tr>\n",
       "    <tr>\n",
       "      <th>1949-02-01</th>\n",
       "      <td>118</td>\n",
       "      <td>6.0</td>\n",
       "      <td>NaN</td>\n",
       "    </tr>\n",
       "    <tr>\n",
       "      <th>1949-03-01</th>\n",
       "      <td>132</td>\n",
       "      <td>14.0</td>\n",
       "      <td>8.0</td>\n",
       "    </tr>\n",
       "    <tr>\n",
       "      <th>1949-04-01</th>\n",
       "      <td>129</td>\n",
       "      <td>-3.0</td>\n",
       "      <td>-17.0</td>\n",
       "    </tr>\n",
       "    <tr>\n",
       "      <th>1949-05-01</th>\n",
       "      <td>121</td>\n",
       "      <td>-8.0</td>\n",
       "      <td>-5.0</td>\n",
       "    </tr>\n",
       "  </tbody>\n",
       "</table>\n",
       "</div>"
      ],
      "text/plain": [
       "            Thousand of Passengers  1st Difference  2nd Difference\n",
       "Month                                                             \n",
       "1949-01-01                     112             NaN             NaN\n",
       "1949-02-01                     118             6.0             NaN\n",
       "1949-03-01                     132            14.0             8.0\n",
       "1949-04-01                     129            -3.0           -17.0\n",
       "1949-05-01                     121            -8.0            -5.0"
      ]
     },
     "execution_count": 21,
     "metadata": {},
     "output_type": "execute_result"
    }
   ],
   "source": [
    "dataset.head()"
   ]
  },
  {
   "cell_type": "code",
   "execution_count": 22,
   "id": "3eaeeca0",
   "metadata": {},
   "outputs": [
    {
     "name": "stdout",
     "output_type": "stream",
     "text": [
      "Augmented Dickey Fuller Test - Stationary or Non-Stationary\n",
      "ADF Test Statistics : -16.384231542468505\n",
      "p-value : 2.7328918500142407e-29\n",
      "#Lags : 11\n",
      "No. of Observation(n) : 130\n",
      "Strong evidence against null hypothesis & my timeseries is Stationary\n"
     ]
    }
   ],
   "source": [
    "# Will check if new column data is stationary or not\n",
    "adf_check(dataset['2nd Difference'].dropna())"
   ]
  },
  {
   "cell_type": "code",
   "execution_count": 23,
   "id": "e1801330",
   "metadata": {},
   "outputs": [],
   "source": [
    "# AIC = -2LL+2K\n",
    "# K=Parameter\n",
    "# parameter = trend(p d q) / seasonality ( P D Q)\n",
    "\n",
    "# D/d = difference - integrated\n",
    "\n",
    "#Trend\n",
    "# d=2 ( no. of times we calutaled difference)\n",
    "# p=?\n",
    "# q=?\n",
    "\n",
    "#Seasonality\n",
    "#D=?\n",
    "#P=?\n",
    "#Q=?\n",
    "\n",
    "#ARIMA=Auto Regressive Integrated Moving Avg\n",
    "# AR-P/p\n",
    "# I- D/d\n",
    "# MA-Q/q\n",
    "\n"
   ]
  },
  {
   "cell_type": "code",
   "execution_count": 24,
   "id": "e847c67b",
   "metadata": {},
   "outputs": [],
   "source": [
    "# Create a seasonality\n",
    "\n",
    "dataset['Seasonality']=dataset['Thousand of Passengers']-dataset['Thousand of Passengers'].shift(12)"
   ]
  },
  {
   "cell_type": "code",
   "execution_count": 25,
   "id": "aa2f6795",
   "metadata": {},
   "outputs": [
    {
     "data": {
      "text/html": [
       "<div>\n",
       "<style scoped>\n",
       "    .dataframe tbody tr th:only-of-type {\n",
       "        vertical-align: middle;\n",
       "    }\n",
       "\n",
       "    .dataframe tbody tr th {\n",
       "        vertical-align: top;\n",
       "    }\n",
       "\n",
       "    .dataframe thead th {\n",
       "        text-align: right;\n",
       "    }\n",
       "</style>\n",
       "<table border=\"1\" class=\"dataframe\">\n",
       "  <thead>\n",
       "    <tr style=\"text-align: right;\">\n",
       "      <th></th>\n",
       "      <th>Thousand of Passengers</th>\n",
       "      <th>1st Difference</th>\n",
       "      <th>2nd Difference</th>\n",
       "      <th>Seasonality</th>\n",
       "    </tr>\n",
       "    <tr>\n",
       "      <th>Month</th>\n",
       "      <th></th>\n",
       "      <th></th>\n",
       "      <th></th>\n",
       "      <th></th>\n",
       "    </tr>\n",
       "  </thead>\n",
       "  <tbody>\n",
       "    <tr>\n",
       "      <th>1949-01-01</th>\n",
       "      <td>112</td>\n",
       "      <td>NaN</td>\n",
       "      <td>NaN</td>\n",
       "      <td>NaN</td>\n",
       "    </tr>\n",
       "    <tr>\n",
       "      <th>1949-02-01</th>\n",
       "      <td>118</td>\n",
       "      <td>6.0</td>\n",
       "      <td>NaN</td>\n",
       "      <td>NaN</td>\n",
       "    </tr>\n",
       "    <tr>\n",
       "      <th>1949-03-01</th>\n",
       "      <td>132</td>\n",
       "      <td>14.0</td>\n",
       "      <td>8.0</td>\n",
       "      <td>NaN</td>\n",
       "    </tr>\n",
       "    <tr>\n",
       "      <th>1949-04-01</th>\n",
       "      <td>129</td>\n",
       "      <td>-3.0</td>\n",
       "      <td>-17.0</td>\n",
       "      <td>NaN</td>\n",
       "    </tr>\n",
       "    <tr>\n",
       "      <th>1949-05-01</th>\n",
       "      <td>121</td>\n",
       "      <td>-8.0</td>\n",
       "      <td>-5.0</td>\n",
       "      <td>NaN</td>\n",
       "    </tr>\n",
       "    <tr>\n",
       "      <th>1949-06-01</th>\n",
       "      <td>135</td>\n",
       "      <td>14.0</td>\n",
       "      <td>22.0</td>\n",
       "      <td>NaN</td>\n",
       "    </tr>\n",
       "    <tr>\n",
       "      <th>1949-07-01</th>\n",
       "      <td>148</td>\n",
       "      <td>13.0</td>\n",
       "      <td>-1.0</td>\n",
       "      <td>NaN</td>\n",
       "    </tr>\n",
       "    <tr>\n",
       "      <th>1949-08-01</th>\n",
       "      <td>148</td>\n",
       "      <td>0.0</td>\n",
       "      <td>-13.0</td>\n",
       "      <td>NaN</td>\n",
       "    </tr>\n",
       "    <tr>\n",
       "      <th>1949-09-01</th>\n",
       "      <td>136</td>\n",
       "      <td>-12.0</td>\n",
       "      <td>-12.0</td>\n",
       "      <td>NaN</td>\n",
       "    </tr>\n",
       "    <tr>\n",
       "      <th>1949-10-01</th>\n",
       "      <td>119</td>\n",
       "      <td>-17.0</td>\n",
       "      <td>-5.0</td>\n",
       "      <td>NaN</td>\n",
       "    </tr>\n",
       "    <tr>\n",
       "      <th>1949-11-01</th>\n",
       "      <td>104</td>\n",
       "      <td>-15.0</td>\n",
       "      <td>2.0</td>\n",
       "      <td>NaN</td>\n",
       "    </tr>\n",
       "    <tr>\n",
       "      <th>1949-12-01</th>\n",
       "      <td>118</td>\n",
       "      <td>14.0</td>\n",
       "      <td>29.0</td>\n",
       "      <td>NaN</td>\n",
       "    </tr>\n",
       "    <tr>\n",
       "      <th>1950-01-01</th>\n",
       "      <td>115</td>\n",
       "      <td>-3.0</td>\n",
       "      <td>-17.0</td>\n",
       "      <td>3.0</td>\n",
       "    </tr>\n",
       "    <tr>\n",
       "      <th>1950-02-01</th>\n",
       "      <td>126</td>\n",
       "      <td>11.0</td>\n",
       "      <td>14.0</td>\n",
       "      <td>8.0</td>\n",
       "    </tr>\n",
       "    <tr>\n",
       "      <th>1950-03-01</th>\n",
       "      <td>141</td>\n",
       "      <td>15.0</td>\n",
       "      <td>4.0</td>\n",
       "      <td>9.0</td>\n",
       "    </tr>\n",
       "    <tr>\n",
       "      <th>1950-04-01</th>\n",
       "      <td>135</td>\n",
       "      <td>-6.0</td>\n",
       "      <td>-21.0</td>\n",
       "      <td>6.0</td>\n",
       "    </tr>\n",
       "    <tr>\n",
       "      <th>1950-05-01</th>\n",
       "      <td>125</td>\n",
       "      <td>-10.0</td>\n",
       "      <td>-4.0</td>\n",
       "      <td>4.0</td>\n",
       "    </tr>\n",
       "    <tr>\n",
       "      <th>1950-06-01</th>\n",
       "      <td>149</td>\n",
       "      <td>24.0</td>\n",
       "      <td>34.0</td>\n",
       "      <td>14.0</td>\n",
       "    </tr>\n",
       "    <tr>\n",
       "      <th>1950-07-01</th>\n",
       "      <td>170</td>\n",
       "      <td>21.0</td>\n",
       "      <td>-3.0</td>\n",
       "      <td>22.0</td>\n",
       "    </tr>\n",
       "    <tr>\n",
       "      <th>1950-08-01</th>\n",
       "      <td>170</td>\n",
       "      <td>0.0</td>\n",
       "      <td>-21.0</td>\n",
       "      <td>22.0</td>\n",
       "    </tr>\n",
       "  </tbody>\n",
       "</table>\n",
       "</div>"
      ],
      "text/plain": [
       "            Thousand of Passengers  1st Difference  2nd Difference  \\\n",
       "Month                                                                \n",
       "1949-01-01                     112             NaN             NaN   \n",
       "1949-02-01                     118             6.0             NaN   \n",
       "1949-03-01                     132            14.0             8.0   \n",
       "1949-04-01                     129            -3.0           -17.0   \n",
       "1949-05-01                     121            -8.0            -5.0   \n",
       "1949-06-01                     135            14.0            22.0   \n",
       "1949-07-01                     148            13.0            -1.0   \n",
       "1949-08-01                     148             0.0           -13.0   \n",
       "1949-09-01                     136           -12.0           -12.0   \n",
       "1949-10-01                     119           -17.0            -5.0   \n",
       "1949-11-01                     104           -15.0             2.0   \n",
       "1949-12-01                     118            14.0            29.0   \n",
       "1950-01-01                     115            -3.0           -17.0   \n",
       "1950-02-01                     126            11.0            14.0   \n",
       "1950-03-01                     141            15.0             4.0   \n",
       "1950-04-01                     135            -6.0           -21.0   \n",
       "1950-05-01                     125           -10.0            -4.0   \n",
       "1950-06-01                     149            24.0            34.0   \n",
       "1950-07-01                     170            21.0            -3.0   \n",
       "1950-08-01                     170             0.0           -21.0   \n",
       "\n",
       "            Seasonality  \n",
       "Month                    \n",
       "1949-01-01          NaN  \n",
       "1949-02-01          NaN  \n",
       "1949-03-01          NaN  \n",
       "1949-04-01          NaN  \n",
       "1949-05-01          NaN  \n",
       "1949-06-01          NaN  \n",
       "1949-07-01          NaN  \n",
       "1949-08-01          NaN  \n",
       "1949-09-01          NaN  \n",
       "1949-10-01          NaN  \n",
       "1949-11-01          NaN  \n",
       "1949-12-01          NaN  \n",
       "1950-01-01          3.0  \n",
       "1950-02-01          8.0  \n",
       "1950-03-01          9.0  \n",
       "1950-04-01          6.0  \n",
       "1950-05-01          4.0  \n",
       "1950-06-01         14.0  \n",
       "1950-07-01         22.0  \n",
       "1950-08-01         22.0  "
      ]
     },
     "execution_count": 25,
     "metadata": {},
     "output_type": "execute_result"
    }
   ],
   "source": [
    "dataset.head(20)"
   ]
  },
  {
   "cell_type": "code",
   "execution_count": 26,
   "id": "94021d24",
   "metadata": {},
   "outputs": [
    {
     "name": "stdout",
     "output_type": "stream",
     "text": [
      "Augmented Dickey Fuller Test - Stationary or Non-Stationary\n",
      "ADF Test Statistics : -3.383020726492481\n",
      "p-value : 0.011551493085514952\n",
      "#Lags : 1\n",
      "No. of Observation(n) : 130\n",
      "Strong evidence against null hypothesis & my timeseries is Stationary\n"
     ]
    }
   ],
   "source": [
    "# Check if seasonality is stationary or not\n",
    "\n",
    "adf_check(dataset['Seasonality'].dropna())"
   ]
  },
  {
   "cell_type": "code",
   "execution_count": 28,
   "id": "d71e11f4",
   "metadata": {},
   "outputs": [],
   "source": [
    "#Trend\n",
    "# d=2\n",
    "# p=?\n",
    "# q=?\n",
    "\n",
    "#Seasonality\n",
    "#D=1\n",
    "#P=?\n",
    "#Q=?\n",
    "\n",
    "#  calculate p,1 and P, Q using acf & pacf mathod\n",
    "#acf- autocorrelation function\n",
    "#pacf - partial auto correlation function\n",
    "\n",
    "#ARIMA=Auto Regressive Integrated Moving Avg\n",
    "# AR-P/p -pacf\n",
    "# I- D/d - got it ( stationary )\n",
    "# MA-Q/q -acf"
   ]
  },
  {
   "cell_type": "code",
   "execution_count": 29,
   "id": "4033ed90",
   "metadata": {},
   "outputs": [],
   "source": [
    "# import acf & pacf \n",
    "\n",
    "from statsmodels.graphics.tsaplots import plot_acf,plot_pacf"
   ]
  },
  {
   "cell_type": "code",
   "execution_count": 30,
   "id": "56d89ac2",
   "metadata": {},
   "outputs": [
    {
     "data": {
      "image/png": "[encoded data removed]",
      "text/plain": [
       "<Figure size 432x288 with 1 Axes>"
      ]
     },
     "metadata": {
      "needs_background": "light"
     },
     "output_type": "display_data"
    }
   ],
   "source": [
    "# find p\n",
    "\n",
    "plot_pacf(dataset['2nd Difference'].dropna(),lags=14)\n",
    "plt.show()"
   ]
  },
  {
   "cell_type": "markdown",
   "id": "a33359b2",
   "metadata": {},
   "source": [
    "here p=2"
   ]
  },
  {
   "cell_type": "code",
   "execution_count": 41,
   "id": "62ab8804",
   "metadata": {},
   "outputs": [],
   "source": [
    "\n",
    "#correlation:\n",
    "# 1) -0.2 to +0.2 ->neutral/no correlation\n",
    "# 2) -0.2 to -0.6 and 0.2 to 0.6 -> weak correlation\n",
    "# 3) -0.6 to -1 and0.6 to 1 -> strong correlation\n",
    "\n",
    "# +ve sign means directly proportional & -ve sign means inversally proportional\n",
    "# shaded region represents no correlation\n",
    "# the time we get no correlation pt. we shop checking further."
   ]
  },
  {
   "cell_type": "code",
   "execution_count": 32,
   "id": "45755415",
   "metadata": {},
   "outputs": [
    {
     "data": {
      "image/png": "[encoded data removed]",
      "text/plain": [
       "<Figure size 432x288 with 1 Axes>"
      ]
     },
     "metadata": {
      "needs_background": "light"
     },
     "output_type": "display_data"
    }
   ],
   "source": [
    "# find q\n",
    "\n",
    "plot_acf(dataset['2nd Difference'].dropna(),lags=14)\n",
    "plt.show()"
   ]
  },
  {
   "cell_type": "markdown",
   "id": "63a7f466",
   "metadata": {},
   "source": [
    " Here q=2\n",
    "( at 3rd point it has no correaltion so we stop checking further)"
   ]
  },
  {
   "cell_type": "code",
   "execution_count": 35,
   "id": "b8df213a",
   "metadata": {},
   "outputs": [
    {
     "data": {
      "image/png": "[encoded data removed]",
      "text/plain": [
       "<Figure size 432x288 with 1 Axes>"
      ]
     },
     "metadata": {
      "needs_background": "light"
     },
     "output_type": "display_data"
    }
   ],
   "source": [
    "# Find P\n",
    "\n",
    "plot_pacf(dataset['Seasonality'].dropna(),lags=14)\n",
    "plt.show()"
   ]
  },
  {
   "cell_type": "markdown",
   "id": "9d8d66e2",
   "metadata": {},
   "source": [
    " here P=2"
   ]
  },
  {
   "cell_type": "code",
   "execution_count": 38,
   "id": "0a041ef6",
   "metadata": {},
   "outputs": [
    {
     "data": {
      "image/png": "[encoded data removed]",
      "text/plain": [
       "<Figure size 432x288 with 1 Axes>"
      ]
     },
     "metadata": {
      "needs_background": "light"
     },
     "output_type": "display_data"
    }
   ],
   "source": [
    "# Find Q\n",
    "\n",
    "plot_acf(dataset['Seasonality'].dropna(),lags=14)\n",
    "plt.show()"
   ]
  },
  {
   "cell_type": "markdown",
   "id": "d4a07b4b",
   "metadata": {},
   "source": [
    "here Q=5"
   ]
  },
  {
   "cell_type": "code",
   "execution_count": 40,
   "id": "34b5e6cc",
   "metadata": {},
   "outputs": [],
   "source": [
    "# Trend\n",
    "#p=2\n",
    "#d=2\n",
    "#q=2\n",
    "\n",
    "#Seasonality\n",
    "#P=2\n",
    "#D=1\n",
    "#Q=5"
   ]
  },
  {
   "cell_type": "markdown",
   "id": "6b80bb8c",
   "metadata": {},
   "source": [
    "### Time Series Forecasting"
   ]
  },
  {
   "cell_type": "code",
   "execution_count": 44,
   "id": "2b0323e8",
   "metadata": {},
   "outputs": [],
   "source": [
    "from statsmodels.tsa.arima_model import ARIMA\n",
    "import statsmodels.api as sm"
   ]
  },
  {
   "cell_type": "code",
   "execution_count": 46,
   "id": "19c22e2c",
   "metadata": {},
   "outputs": [
    {
     "name": "stderr",
     "output_type": "stream",
     "text": [
      "C:\\Users\\k.laxmi.keerti\\AppData\\Local\\anaconda3\\envs\\venv\\lib\\site-packages\\statsmodels\\tsa\\base\\tsa_model.py:527: ValueWarning: No frequency information was provided, so inferred frequency MS will be used.\n",
      "  % freq, ValueWarning)\n",
      "C:\\Users\\k.laxmi.keerti\\AppData\\Local\\anaconda3\\envs\\venv\\lib\\site-packages\\statsmodels\\tsa\\base\\tsa_model.py:527: ValueWarning: No frequency information was provided, so inferred frequency MS will be used.\n",
      "  % freq, ValueWarning)\n"
     ]
    }
   ],
   "source": [
    "model=sm.tsa.statespace.SARIMAX(dataset['Thousand of Passengers'],\n",
    "                               order=(2,2,2),seasonal_order=(2,1,5,12))"
   ]
  },
  {
   "cell_type": "code",
   "execution_count": 47,
   "id": "7c8ed50b",
   "metadata": {},
   "outputs": [],
   "source": [
    "# order-(p,d,q)\n",
    "#seaonal_order - (P,D,Q,frequency)"
   ]
  },
  {
   "cell_type": "code",
   "execution_count": 48,
   "id": "6a66369e",
   "metadata": {},
   "outputs": [
    {
     "name": "stderr",
     "output_type": "stream",
     "text": [
      "C:\\Users\\k.laxmi.keerti\\AppData\\Local\\anaconda3\\envs\\venv\\lib\\site-packages\\statsmodels\\base\\model.py:568: ConvergenceWarning: Maximum Likelihood optimization failed to converge. Check mle_retvals\n",
      "  ConvergenceWarning)\n"
     ]
    }
   ],
   "source": [
    "result=model.fit()"
   ]
  },
  {
   "cell_type": "code",
   "execution_count": 49,
   "id": "d7dea3ac",
   "metadata": {},
   "outputs": [
    {
     "name": "stdout",
     "output_type": "stream",
     "text": [
      "                                            SARIMAX Results                                             \n",
      "========================================================================================================\n",
      "Dep. Variable:                           Thousand of Passengers   No. Observations:                  144\n",
      "Model:             SARIMAX(2, 2, 2)x(2, 1, [1, 2, 3, 4, 5], 12)   Log Likelihood                -497.263\n",
      "Date:                                          Thu, 27 Apr 2023   AIC                           1018.526\n",
      "Time:                                                  13:51:53   BIC                           1052.936\n",
      "Sample:                                              01-01-1949   HQIC                          1032.508\n",
      "                                                   - 12-01-1960                                         \n",
      "Covariance Type:                                            opg                                         \n",
      "==============================================================================\n",
      "                 coef    std err          z      P>|z|      [0.025      0.975]\n",
      "------------------------------------------------------------------------------\n",
      "ar.L1         -1.3372      0.093    -14.445      0.000      -1.519      -1.156\n",
      "ar.L2         -0.4085      0.084     -4.846      0.000      -0.574      -0.243\n",
      "ma.L1         -0.0030      1.590     -0.002      0.998      -3.119       3.113\n",
      "ma.L2         -0.9970      1.601     -0.623      0.533      -4.134       2.140\n",
      "ar.S.L12       1.7449     21.631      0.081      0.936     -40.651      44.141\n",
      "ar.S.L24      -0.7717     20.431     -0.038      0.970     -40.815      39.272\n",
      "ma.S.L12      -2.1027     36.521     -0.058      0.954     -73.683      69.478\n",
      "ma.S.L24       1.4797     46.797      0.032      0.975     -90.240      93.200\n",
      "ma.S.L36      -0.4568     13.816     -0.033      0.974     -27.536      26.622\n",
      "ma.S.L48       0.2611      5.184      0.050      0.960      -9.899      10.421\n",
      "ma.S.L60      -0.1123      5.381     -0.021      0.983     -10.659      10.434\n",
      "sigma2        99.0985   1652.653      0.060      0.952   -3140.041    3338.238\n",
      "===================================================================================\n",
      "Ljung-Box (L1) (Q):                   0.05   Jarque-Bera (JB):                16.32\n",
      "Prob(Q):                              0.82   Prob(JB):                         0.00\n",
      "Heteroskedasticity (H):               2.69   Skew:                             0.22\n",
      "Prob(H) (two-sided):                  0.00   Kurtosis:                         4.68\n",
      "===================================================================================\n",
      "\n",
      "Warnings:\n",
      "[1] Covariance matrix calculated using the outer product of gradients (complex-step).\n"
     ]
    }
   ],
   "source": [
    "print(result.summary())"
   ]
  },
  {
   "cell_type": "code",
   "execution_count": null,
   "id": "77562d11",
   "metadata": {},
   "outputs": [],
   "source": [
    "# less AIC(error) more accuracy\n",
    "\n",
    "# AIC =1018.526 when Seasonality=5"
   ]
  },
  {
   "cell_type": "code",
   "execution_count": 51,
   "id": "3376465f",
   "metadata": {},
   "outputs": [
    {
     "name": "stderr",
     "output_type": "stream",
     "text": [
      "C:\\Users\\k.laxmi.keerti\\AppData\\Local\\anaconda3\\envs\\venv\\lib\\site-packages\\statsmodels\\tsa\\base\\tsa_model.py:527: ValueWarning: No frequency information was provided, so inferred frequency MS will be used.\n",
      "  % freq, ValueWarning)\n",
      "C:\\Users\\k.laxmi.keerti\\AppData\\Local\\anaconda3\\envs\\venv\\lib\\site-packages\\statsmodels\\tsa\\base\\tsa_model.py:527: ValueWarning: No frequency information was provided, so inferred frequency MS will be used.\n",
      "  % freq, ValueWarning)\n",
      "C:\\Users\\k.laxmi.keerti\\AppData\\Local\\anaconda3\\envs\\venv\\lib\\site-packages\\statsmodels\\base\\model.py:568: ConvergenceWarning: Maximum Likelihood optimization failed to converge. Check mle_retvals\n",
      "  ConvergenceWarning)\n"
     ]
    },
    {
     "name": "stdout",
     "output_type": "stream",
     "text": [
      "                                           SARIMAX Results                                           \n",
      "=====================================================================================================\n",
      "Dep. Variable:                        Thousand of Passengers   No. Observations:                  144\n",
      "Model:             SARIMAX(2, 2, 2)x(2, 1, [1, 2, 3, 4], 12)   Log Likelihood                -497.359\n",
      "Date:                                       Thu, 27 Apr 2023   AIC                           1016.718\n",
      "Time:                                               14:50:50   BIC                           1048.260\n",
      "Sample:                                           01-01-1949   HQIC                          1029.534\n",
      "                                                - 12-01-1960                                         \n",
      "Covariance Type:                                         opg                                         \n",
      "==============================================================================\n",
      "                 coef    std err          z      P>|z|      [0.025      0.975]\n",
      "------------------------------------------------------------------------------\n",
      "ar.L1         -1.3448      0.095    -14.201      0.000      -1.530      -1.159\n",
      "ar.L2         -0.4234      0.080     -5.266      0.000      -0.581      -0.266\n",
      "ma.L1         -0.0028     21.598     -0.000      1.000     -42.335      42.329\n",
      "ma.L2         -0.9972     21.561     -0.046      0.963     -43.256      41.262\n",
      "ar.S.L12      -0.0119      0.473     -0.025      0.980      -0.938       0.915\n",
      "ar.S.L24       0.9562      0.508      1.883      0.060      -0.039       1.952\n",
      "ma.S.L12      -0.2272      0.788     -0.288      0.773      -1.773       1.318\n",
      "ma.S.L24      -0.8981      0.982     -0.915      0.360      -2.823       1.027\n",
      "ma.S.L36       0.2851      0.347      0.821      0.412      -0.396       0.966\n",
      "ma.S.L48       0.0775      0.225      0.344      0.731      -0.364       0.519\n",
      "sigma2       105.7591   2287.264      0.046      0.963   -4377.196    4588.715\n",
      "===================================================================================\n",
      "Ljung-Box (L1) (Q):                   0.12   Jarque-Bera (JB):                21.47\n",
      "Prob(Q):                              0.73   Prob(JB):                         0.00\n",
      "Heteroskedasticity (H):               2.66   Skew:                             0.26\n",
      "Prob(H) (two-sided):                  0.00   Kurtosis:                         4.92\n",
      "===================================================================================\n",
      "\n",
      "Warnings:\n",
      "[1] Covariance matrix calculated using the outer product of gradients (complex-step).\n"
     ]
    }
   ],
   "source": [
    "# model with seasonality=4\n",
    "model=sm.tsa.statespace.SARIMAX(dataset['Thousand of Passengers'],\n",
    "                               order=(2,2,2),seasonal_order=(2,1,4,12))\n",
    "result=model.fit()\n",
    "print(result.summary())"
   ]
  },
  {
   "cell_type": "code",
   "execution_count": null,
   "id": "2fe26c0d",
   "metadata": {},
   "outputs": [],
   "source": [
    "# AIC =1016.718 when Seasonality=4"
   ]
  },
  {
   "cell_type": "code",
   "execution_count": 53,
   "id": "5d98d51f",
   "metadata": {},
   "outputs": [
    {
     "name": "stderr",
     "output_type": "stream",
     "text": [
      "C:\\Users\\k.laxmi.keerti\\AppData\\Local\\anaconda3\\envs\\venv\\lib\\site-packages\\statsmodels\\tsa\\base\\tsa_model.py:527: ValueWarning: No frequency information was provided, so inferred frequency MS will be used.\n",
      "  % freq, ValueWarning)\n",
      "C:\\Users\\k.laxmi.keerti\\AppData\\Local\\anaconda3\\envs\\venv\\lib\\site-packages\\statsmodels\\tsa\\base\\tsa_model.py:527: ValueWarning: No frequency information was provided, so inferred frequency MS will be used.\n",
      "  % freq, ValueWarning)\n"
     ]
    },
    {
     "name": "stdout",
     "output_type": "stream",
     "text": [
      "                                         SARIMAX Results                                          \n",
      "==================================================================================================\n",
      "Dep. Variable:                     Thousand of Passengers   No. Observations:                  144\n",
      "Model:             SARIMAX(2, 2, 2)x(2, 1, [1, 2, 3], 12)   Log Likelihood                -497.523\n",
      "Date:                                    Thu, 27 Apr 2023   AIC                           1015.045\n",
      "Time:                                            14:52:33   BIC                           1043.721\n",
      "Sample:                                        01-01-1949   HQIC                          1026.697\n",
      "                                             - 12-01-1960                                         \n",
      "Covariance Type:                                      opg                                         \n",
      "==============================================================================\n",
      "                 coef    std err          z      P>|z|      [0.025      0.975]\n",
      "------------------------------------------------------------------------------\n",
      "ar.L1         -1.3448      0.092    -14.675      0.000      -1.524      -1.165\n",
      "ar.L2         -0.4270      0.077     -5.514      0.000      -0.579      -0.275\n",
      "ma.L1         -0.0056     48.649     -0.000      1.000     -95.355      95.344\n",
      "ma.L2         -0.9944     48.375     -0.021      0.984     -95.808      93.819\n",
      "ar.S.L12       0.0098      0.538      0.018      0.986      -1.044       1.064\n",
      "ar.S.L24       0.9896      0.461      2.147      0.032       0.086       1.893\n",
      "ma.S.L12      -0.3258      2.752     -0.118      0.906      -5.719       5.068\n",
      "ma.S.L24      -0.9422      1.500     -0.628      0.530      -3.882       1.998\n",
      "ma.S.L36       0.2917      0.544      0.536      0.592      -0.775       1.359\n",
      "sigma2        99.0770   5015.372      0.020      0.984   -9730.871    9929.025\n",
      "===================================================================================\n",
      "Ljung-Box (L1) (Q):                   0.10   Jarque-Bera (JB):                20.92\n",
      "Prob(Q):                              0.75   Prob(JB):                         0.00\n",
      "Heteroskedasticity (H):               2.65   Skew:                             0.27\n",
      "Prob(H) (two-sided):                  0.00   Kurtosis:                         4.89\n",
      "===================================================================================\n",
      "\n",
      "Warnings:\n",
      "[1] Covariance matrix calculated using the outer product of gradients (complex-step).\n"
     ]
    }
   ],
   "source": [
    "# model with seasonality=3\n",
    "model=sm.tsa.statespace.SARIMAX(dataset['Thousand of Passengers'],\n",
    "                               order=(2,2,2),seasonal_order=(2,1,3,12))\n",
    "result=model.fit()\n",
    "print(result.summary())"
   ]
  },
  {
   "cell_type": "code",
   "execution_count": null,
   "id": "7608dd8a",
   "metadata": {},
   "outputs": [],
   "source": [
    "# AIC =1015.045 when Seasonality=3"
   ]
  },
  {
   "cell_type": "code",
   "execution_count": 54,
   "id": "8ffbf33b",
   "metadata": {},
   "outputs": [
    {
     "name": "stderr",
     "output_type": "stream",
     "text": [
      "C:\\Users\\k.laxmi.keerti\\AppData\\Local\\anaconda3\\envs\\venv\\lib\\site-packages\\statsmodels\\tsa\\base\\tsa_model.py:527: ValueWarning: No frequency information was provided, so inferred frequency MS will be used.\n",
      "  % freq, ValueWarning)\n",
      "C:\\Users\\k.laxmi.keerti\\AppData\\Local\\anaconda3\\envs\\venv\\lib\\site-packages\\statsmodels\\tsa\\base\\tsa_model.py:527: ValueWarning: No frequency information was provided, so inferred frequency MS will be used.\n",
      "  % freq, ValueWarning)\n",
      "C:\\Users\\k.laxmi.keerti\\AppData\\Local\\anaconda3\\envs\\venv\\lib\\site-packages\\statsmodels\\base\\model.py:568: ConvergenceWarning: Maximum Likelihood optimization failed to converge. Check mle_retvals\n",
      "  ConvergenceWarning)\n"
     ]
    },
    {
     "name": "stdout",
     "output_type": "stream",
     "text": [
      "                                     SARIMAX Results                                      \n",
      "==========================================================================================\n",
      "Dep. Variable:             Thousand of Passengers   No. Observations:                  144\n",
      "Model:             SARIMAX(2, 2, 2)x(2, 1, 2, 12)   Log Likelihood                -498.053\n",
      "Date:                            Thu, 27 Apr 2023   AIC                           1014.106\n",
      "Time:                                    14:53:57   BIC                           1039.914\n",
      "Sample:                                01-01-1949   HQIC                          1024.593\n",
      "                                     - 12-01-1960                                         \n",
      "Covariance Type:                              opg                                         \n",
      "==============================================================================\n",
      "                 coef    std err          z      P>|z|      [0.025      0.975]\n",
      "------------------------------------------------------------------------------\n",
      "ar.L1         -1.3446      0.097    -13.870      0.000      -1.535      -1.155\n",
      "ar.L2         -0.4231      0.080     -5.282      0.000      -0.580      -0.266\n",
      "ma.L1         -0.0016     10.414     -0.000      1.000     -20.412      20.409\n",
      "ma.L2         -0.9984     10.442     -0.096      0.924     -21.463      19.467\n",
      "ar.S.L12       0.8729      0.448      1.947      0.052      -0.006       1.752\n",
      "ar.S.L24       0.1220      0.542      0.225      0.822      -0.941       1.185\n",
      "ma.S.L12      -1.1807      0.579     -2.038      0.042      -2.316      -0.045\n",
      "ma.S.L24       0.2306      0.530      0.435      0.664      -0.809       1.270\n",
      "sigma2       105.3057   1097.307      0.096      0.924   -2045.377    2255.989\n",
      "===================================================================================\n",
      "Ljung-Box (L1) (Q):                   0.07   Jarque-Bera (JB):                18.06\n",
      "Prob(Q):                              0.79   Prob(JB):                         0.00\n",
      "Heteroskedasticity (H):               2.66   Skew:                             0.20\n",
      "Prob(H) (two-sided):                  0.00   Kurtosis:                         4.78\n",
      "===================================================================================\n",
      "\n",
      "Warnings:\n",
      "[1] Covariance matrix calculated using the outer product of gradients (complex-step).\n"
     ]
    }
   ],
   "source": [
    "# model with seasonality=2\n",
    "model=sm.tsa.statespace.SARIMAX(dataset['Thousand of Passengers'],\n",
    "                               order=(2,2,2),seasonal_order=(2,1,2,12))\n",
    "result=model.fit()\n",
    "print(result.summary())"
   ]
  },
  {
   "cell_type": "code",
   "execution_count": null,
   "id": "d29d687d",
   "metadata": {},
   "outputs": [],
   "source": [
    "# AIC =1014.106 when Seasonality=2"
   ]
  },
  {
   "cell_type": "code",
   "execution_count": 55,
   "id": "1664004f",
   "metadata": {},
   "outputs": [
    {
     "name": "stderr",
     "output_type": "stream",
     "text": [
      "C:\\Users\\k.laxmi.keerti\\AppData\\Local\\anaconda3\\envs\\venv\\lib\\site-packages\\statsmodels\\tsa\\base\\tsa_model.py:527: ValueWarning: No frequency information was provided, so inferred frequency MS will be used.\n",
      "  % freq, ValueWarning)\n",
      "C:\\Users\\k.laxmi.keerti\\AppData\\Local\\anaconda3\\envs\\venv\\lib\\site-packages\\statsmodels\\tsa\\base\\tsa_model.py:527: ValueWarning: No frequency information was provided, so inferred frequency MS will be used.\n",
      "  % freq, ValueWarning)\n"
     ]
    },
    {
     "name": "stdout",
     "output_type": "stream",
     "text": [
      "                                      SARIMAX Results                                       \n",
      "============================================================================================\n",
      "Dep. Variable:               Thousand of Passengers   No. Observations:                  144\n",
      "Model:             SARIMAX(2, 2, 2)x(2, 1, [1], 12)   Log Likelihood                -498.098\n",
      "Date:                              Thu, 27 Apr 2023   AIC                           1012.196\n",
      "Time:                                      14:54:19   BIC                           1035.136\n",
      "Sample:                                  01-01-1949   HQIC                          1021.517\n",
      "                                       - 12-01-1960                                         \n",
      "Covariance Type:                                opg                                         \n",
      "==============================================================================\n",
      "                 coef    std err          z      P>|z|      [0.025      0.975]\n",
      "------------------------------------------------------------------------------\n",
      "ar.L1         -1.3487      0.092    -14.665      0.000      -1.529      -1.168\n",
      "ar.L2         -0.4280      0.074     -5.777      0.000      -0.573      -0.283\n",
      "ma.L1         -0.0007      4.164     -0.000      1.000      -8.161       8.160\n",
      "ma.L2         -0.9993      4.081     -0.245      0.807      -8.999       7.000\n",
      "ar.S.L12       0.6725      0.171      3.938      0.000       0.338       1.007\n",
      "ar.S.L24       0.3266      0.104      3.151      0.002       0.123       0.530\n",
      "ma.S.L12      -0.9777      1.587     -0.616      0.538      -4.088       2.133\n",
      "sigma2       104.1989    492.374      0.212      0.832    -860.836    1069.234\n",
      "===================================================================================\n",
      "Ljung-Box (L1) (Q):                   0.05   Jarque-Bera (JB):                16.24\n",
      "Prob(Q):                              0.82   Prob(JB):                         0.00\n",
      "Heteroskedasticity (H):               2.61   Skew:                             0.24\n",
      "Prob(H) (two-sided):                  0.00   Kurtosis:                         4.67\n",
      "===================================================================================\n",
      "\n",
      "Warnings:\n",
      "[1] Covariance matrix calculated using the outer product of gradients (complex-step).\n"
     ]
    }
   ],
   "source": [
    "# model with seasonality=1\n",
    "model=sm.tsa.statespace.SARIMAX(dataset['Thousand of Passengers'],\n",
    "                               order=(2,2,2),seasonal_order=(2,1,1,12))\n",
    "result=model.fit()\n",
    "print(result.summary())"
   ]
  },
  {
   "cell_type": "code",
   "execution_count": 56,
   "id": "dd5f081f",
   "metadata": {},
   "outputs": [],
   "source": [
    "# AIC =1012.196 when Seasonality=1"
   ]
  },
  {
   "cell_type": "markdown",
   "id": "e3d949cb",
   "metadata": {},
   "source": [
    "Seasonality=1 has lowest AIC score, so it is better"
   ]
  },
  {
   "cell_type": "markdown",
   "id": "f4a112e1",
   "metadata": {},
   "source": [
    "### Auto ARIMA Approach"
   ]
  },
  {
   "cell_type": "code",
   "execution_count": 60,
   "id": "5719b06d",
   "metadata": {},
   "outputs": [
    {
     "name": "stdout",
     "output_type": "stream",
     "text": [
      "Few parameter combination are : \n",
      "(0, 0, 1) x (0, 0, 1, 12)\n",
      "(0, 1, 0) x (0, 1, 0, 12)\n"
     ]
    }
   ],
   "source": [
    "import itertools\n",
    "\n",
    "p=d=q=range(0,2)\n",
    "pdq=list(itertools.product(p,d,q))\n",
    "seasonal_pdq=[(x[0],x[1],x[2],12) for x in pdq]\n",
    "\n",
    "print(\"Few parameter combination are : \")\n",
    "print('{} x {}'.format(pdq[1],seasonal_pdq[1]))\n",
    "print('{} x {}'.format(pdq[2],seasonal_pdq[2]))"
   ]
  },
  {
   "cell_type": "code",
   "execution_count": 63,
   "id": "2f2b87a3",
   "metadata": {},
   "outputs": [
    {
     "name": "stderr",
     "output_type": "stream",
     "text": [
      "C:\\Users\\k.laxmi.keerti\\AppData\\Local\\anaconda3\\envs\\venv\\lib\\site-packages\\statsmodels\\tsa\\base\\tsa_model.py:527: ValueWarning: No frequency information was provided, so inferred frequency MS will be used.\n",
      "  % freq, ValueWarning)\n",
      "C:\\Users\\k.laxmi.keerti\\AppData\\Local\\anaconda3\\envs\\venv\\lib\\site-packages\\statsmodels\\tsa\\base\\tsa_model.py:527: ValueWarning: No frequency information was provided, so inferred frequency MS will be used.\n",
      "  % freq, ValueWarning)\n",
      "C:\\Users\\k.laxmi.keerti\\AppData\\Local\\anaconda3\\envs\\venv\\lib\\site-packages\\statsmodels\\tsa\\base\\tsa_model.py:527: ValueWarning: No frequency information was provided, so inferred frequency MS will be used.\n",
      "  % freq, ValueWarning)\n",
      "C:\\Users\\k.laxmi.keerti\\AppData\\Local\\anaconda3\\envs\\venv\\lib\\site-packages\\statsmodels\\tsa\\base\\tsa_model.py:527: ValueWarning: No frequency information was provided, so inferred frequency MS will be used.\n",
      "  % freq, ValueWarning)\n"
     ]
    },
    {
     "name": "stdout",
     "output_type": "stream",
     "text": [
      "ARIMA(0, 0, 0)x(0, 0, 0, 12) - AIC:2044.4329486427587\n"
     ]
    },
    {
     "name": "stderr",
     "output_type": "stream",
     "text": [
      "C:\\Users\\k.laxmi.keerti\\AppData\\Local\\anaconda3\\envs\\venv\\lib\\site-packages\\statsmodels\\base\\model.py:568: ConvergenceWarning: Maximum Likelihood optimization failed to converge. Check mle_retvals\n",
      "  ConvergenceWarning)\n",
      "C:\\Users\\k.laxmi.keerti\\AppData\\Local\\anaconda3\\envs\\venv\\lib\\site-packages\\statsmodels\\tsa\\base\\tsa_model.py:527: ValueWarning: No frequency information was provided, so inferred frequency MS will be used.\n",
      "  % freq, ValueWarning)\n",
      "C:\\Users\\k.laxmi.keerti\\AppData\\Local\\anaconda3\\envs\\venv\\lib\\site-packages\\statsmodels\\tsa\\base\\tsa_model.py:527: ValueWarning: No frequency information was provided, so inferred frequency MS will be used.\n",
      "  % freq, ValueWarning)\n",
      "C:\\Users\\k.laxmi.keerti\\AppData\\Local\\anaconda3\\envs\\venv\\lib\\site-packages\\statsmodels\\tsa\\base\\tsa_model.py:527: ValueWarning: No frequency information was provided, so inferred frequency MS will be used.\n",
      "  % freq, ValueWarning)\n",
      "C:\\Users\\k.laxmi.keerti\\AppData\\Local\\anaconda3\\envs\\venv\\lib\\site-packages\\statsmodels\\tsa\\base\\tsa_model.py:527: ValueWarning: No frequency information was provided, so inferred frequency MS will be used.\n",
      "  % freq, ValueWarning)\n",
      "C:\\Users\\k.laxmi.keerti\\AppData\\Local\\anaconda3\\envs\\venv\\lib\\site-packages\\statsmodels\\tsa\\base\\tsa_model.py:527: ValueWarning: No frequency information was provided, so inferred frequency MS will be used.\n",
      "  % freq, ValueWarning)\n"
     ]
    },
    {
     "name": "stdout",
     "output_type": "stream",
     "text": [
      "ARIMA(0, 0, 0)x(0, 0, 1, 12) - AIC:1887.3013773056393\n",
      "ARIMA(0, 0, 0)x(0, 1, 0, 12) - AIC:1315.9211929474204\n",
      "ARIMA(0, 0, 0)x(0, 1, 1, 12) - AIC:1156.2914901508545\n"
     ]
    },
    {
     "name": "stderr",
     "output_type": "stream",
     "text": [
      "C:\\Users\\k.laxmi.keerti\\AppData\\Local\\anaconda3\\envs\\venv\\lib\\site-packages\\statsmodels\\tsa\\base\\tsa_model.py:527: ValueWarning: No frequency information was provided, so inferred frequency MS will be used.\n",
      "  % freq, ValueWarning)\n",
      "C:\\Users\\k.laxmi.keerti\\AppData\\Local\\anaconda3\\envs\\venv\\lib\\site-packages\\statsmodels\\tsa\\base\\tsa_model.py:527: ValueWarning: No frequency information was provided, so inferred frequency MS will be used.\n",
      "  % freq, ValueWarning)\n",
      "C:\\Users\\k.laxmi.keerti\\AppData\\Local\\anaconda3\\envs\\venv\\lib\\site-packages\\statsmodels\\tsa\\base\\tsa_model.py:527: ValueWarning: No frequency information was provided, so inferred frequency MS will be used.\n",
      "  % freq, ValueWarning)\n"
     ]
    },
    {
     "name": "stdout",
     "output_type": "stream",
     "text": [
      "ARIMA(0, 0, 0)x(1, 0, 0, 12) - AIC:1118.6259190717344\n",
      "ARIMA(0, 0, 0)x(1, 0, 1, 12) - AIC:1107.2562043230612\n",
      "ARIMA(0, 0, 0)x(1, 1, 0, 12) - AIC:1109.2437994445113\n"
     ]
    },
    {
     "name": "stderr",
     "output_type": "stream",
     "text": [
      "C:\\Users\\k.laxmi.keerti\\AppData\\Local\\anaconda3\\envs\\venv\\lib\\site-packages\\statsmodels\\tsa\\base\\tsa_model.py:527: ValueWarning: No frequency information was provided, so inferred frequency MS will be used.\n",
      "  % freq, ValueWarning)\n",
      "C:\\Users\\k.laxmi.keerti\\AppData\\Local\\anaconda3\\envs\\venv\\lib\\site-packages\\statsmodels\\tsa\\base\\tsa_model.py:527: ValueWarning: No frequency information was provided, so inferred frequency MS will be used.\n",
      "  % freq, ValueWarning)\n",
      "C:\\Users\\k.laxmi.keerti\\AppData\\Local\\anaconda3\\envs\\venv\\lib\\site-packages\\statsmodels\\tsa\\base\\tsa_model.py:527: ValueWarning: No frequency information was provided, so inferred frequency MS will be used.\n",
      "  % freq, ValueWarning)\n",
      "C:\\Users\\k.laxmi.keerti\\AppData\\Local\\anaconda3\\envs\\venv\\lib\\site-packages\\statsmodels\\tsa\\base\\tsa_model.py:527: ValueWarning: No frequency information was provided, so inferred frequency MS will be used.\n",
      "  % freq, ValueWarning)\n"
     ]
    },
    {
     "name": "stdout",
     "output_type": "stream",
     "text": [
      "ARIMA(0, 0, 0)x(1, 1, 1, 12) - AIC:1033.6172166730355\n",
      "ARIMA(0, 0, 1)x(0, 0, 0, 12) - AIC:1846.0789377571389\n"
     ]
    },
    {
     "name": "stderr",
     "output_type": "stream",
     "text": [
      "C:\\Users\\k.laxmi.keerti\\AppData\\Local\\anaconda3\\envs\\venv\\lib\\site-packages\\statsmodels\\tsa\\base\\tsa_model.py:527: ValueWarning: No frequency information was provided, so inferred frequency MS will be used.\n",
      "  % freq, ValueWarning)\n",
      "C:\\Users\\k.laxmi.keerti\\AppData\\Local\\anaconda3\\envs\\venv\\lib\\site-packages\\statsmodels\\tsa\\base\\tsa_model.py:527: ValueWarning: No frequency information was provided, so inferred frequency MS will be used.\n",
      "  % freq, ValueWarning)\n",
      "C:\\Users\\k.laxmi.keerti\\AppData\\Local\\anaconda3\\envs\\venv\\lib\\site-packages\\statsmodels\\tsa\\base\\tsa_model.py:527: ValueWarning: No frequency information was provided, so inferred frequency MS will be used.\n",
      "  % freq, ValueWarning)\n",
      "C:\\Users\\k.laxmi.keerti\\AppData\\Local\\anaconda3\\envs\\venv\\lib\\site-packages\\statsmodels\\tsa\\base\\tsa_model.py:527: ValueWarning: No frequency information was provided, so inferred frequency MS will be used.\n",
      "  % freq, ValueWarning)\n"
     ]
    },
    {
     "name": "stdout",
     "output_type": "stream",
     "text": [
      "ARIMA(0, 0, 1)x(0, 0, 1, 12) - AIC:1567.9916312320493\n",
      "ARIMA(0, 0, 1)x(0, 1, 0, 12) - AIC:1196.9983614399816\n",
      "ARIMA(0, 0, 1)x(0, 1, 1, 12) - AIC:1072.1382984044324\n"
     ]
    },
    {
     "name": "stderr",
     "output_type": "stream",
     "text": [
      "C:\\Users\\k.laxmi.keerti\\AppData\\Local\\anaconda3\\envs\\venv\\lib\\site-packages\\statsmodels\\tsa\\base\\tsa_model.py:527: ValueWarning: No frequency information was provided, so inferred frequency MS will be used.\n",
      "  % freq, ValueWarning)\n",
      "C:\\Users\\k.laxmi.keerti\\AppData\\Local\\anaconda3\\envs\\venv\\lib\\site-packages\\statsmodels\\tsa\\base\\tsa_model.py:527: ValueWarning: No frequency information was provided, so inferred frequency MS will be used.\n",
      "  % freq, ValueWarning)\n",
      "C:\\Users\\k.laxmi.keerti\\AppData\\Local\\anaconda3\\envs\\venv\\lib\\site-packages\\statsmodels\\tsa\\base\\tsa_model.py:527: ValueWarning: No frequency information was provided, so inferred frequency MS will be used.\n",
      "  % freq, ValueWarning)\n",
      "C:\\Users\\k.laxmi.keerti\\AppData\\Local\\anaconda3\\envs\\venv\\lib\\site-packages\\statsmodels\\tsa\\base\\tsa_model.py:527: ValueWarning: No frequency information was provided, so inferred frequency MS will be used.\n",
      "  % freq, ValueWarning)\n",
      "C:\\Users\\k.laxmi.keerti\\AppData\\Local\\anaconda3\\envs\\venv\\lib\\site-packages\\statsmodels\\tsa\\base\\tsa_model.py:527: ValueWarning: No frequency information was provided, so inferred frequency MS will be used.\n",
      "  % freq, ValueWarning)\n",
      "C:\\Users\\k.laxmi.keerti\\AppData\\Local\\anaconda3\\envs\\venv\\lib\\site-packages\\statsmodels\\tsa\\base\\tsa_model.py:527: ValueWarning: No frequency information was provided, so inferred frequency MS will be used.\n",
      "  % freq, ValueWarning)\n"
     ]
    },
    {
     "name": "stdout",
     "output_type": "stream",
     "text": [
      "ARIMA(0, 0, 1)x(1, 0, 0, 12) - AIC:1071.0026810473435\n"
     ]
    },
    {
     "name": "stderr",
     "output_type": "stream",
     "text": [
      "C:\\Users\\k.laxmi.keerti\\AppData\\Local\\anaconda3\\envs\\venv\\lib\\site-packages\\statsmodels\\tsa\\base\\tsa_model.py:527: ValueWarning: No frequency information was provided, so inferred frequency MS will be used.\n",
      "  % freq, ValueWarning)\n",
      "C:\\Users\\k.laxmi.keerti\\AppData\\Local\\anaconda3\\envs\\venv\\lib\\site-packages\\statsmodels\\tsa\\base\\tsa_model.py:527: ValueWarning: No frequency information was provided, so inferred frequency MS will be used.\n",
      "  % freq, ValueWarning)\n"
     ]
    },
    {
     "name": "stdout",
     "output_type": "stream",
     "text": [
      "ARIMA(0, 0, 1)x(1, 0, 1, 12) - AIC:1049.5801418316637\n",
      "ARIMA(0, 0, 1)x(1, 1, 0, 12) - AIC:1059.5112223290407\n"
     ]
    },
    {
     "name": "stderr",
     "output_type": "stream",
     "text": [
      "C:\\Users\\k.laxmi.keerti\\AppData\\Local\\anaconda3\\envs\\venv\\lib\\site-packages\\statsmodels\\tsa\\base\\tsa_model.py:527: ValueWarning: No frequency information was provided, so inferred frequency MS will be used.\n",
      "  % freq, ValueWarning)\n",
      "C:\\Users\\k.laxmi.keerti\\AppData\\Local\\anaconda3\\envs\\venv\\lib\\site-packages\\statsmodels\\tsa\\base\\tsa_model.py:527: ValueWarning: No frequency information was provided, so inferred frequency MS will be used.\n",
      "  % freq, ValueWarning)\n",
      "C:\\Users\\k.laxmi.keerti\\AppData\\Local\\anaconda3\\envs\\venv\\lib\\site-packages\\statsmodels\\tsa\\base\\tsa_model.py:527: ValueWarning: No frequency information was provided, so inferred frequency MS will be used.\n",
      "  % freq, ValueWarning)\n",
      "C:\\Users\\k.laxmi.keerti\\AppData\\Local\\anaconda3\\envs\\venv\\lib\\site-packages\\statsmodels\\tsa\\base\\tsa_model.py:527: ValueWarning: No frequency information was provided, so inferred frequency MS will be used.\n",
      "  % freq, ValueWarning)\n"
     ]
    },
    {
     "name": "stdout",
     "output_type": "stream",
     "text": [
      "ARIMA(0, 0, 1)x(1, 1, 1, 12) - AIC:985.3346478032679\n",
      "ARIMA(0, 1, 0)x(0, 0, 0, 12) - AIC:1405.0006612949667\n",
      "ARIMA(0, 1, 0)x(0, 0, 1, 12) - AIC:1194.7130010979722\n",
      "ARIMA(0, 1, 0)x(0, 1, 0, 12) - AIC:1024.4816429833895\n"
     ]
    },
    {
     "name": "stderr",
     "output_type": "stream",
     "text": [
      "C:\\Users\\k.laxmi.keerti\\AppData\\Local\\anaconda3\\envs\\venv\\lib\\site-packages\\statsmodels\\tsa\\base\\tsa_model.py:527: ValueWarning: No frequency information was provided, so inferred frequency MS will be used.\n",
      "  % freq, ValueWarning)\n",
      "C:\\Users\\k.laxmi.keerti\\AppData\\Local\\anaconda3\\envs\\venv\\lib\\site-packages\\statsmodels\\tsa\\base\\tsa_model.py:527: ValueWarning: No frequency information was provided, so inferred frequency MS will be used.\n",
      "  % freq, ValueWarning)\n",
      "C:\\Users\\k.laxmi.keerti\\AppData\\Local\\anaconda3\\envs\\venv\\lib\\site-packages\\statsmodels\\tsa\\base\\tsa_model.py:527: ValueWarning: No frequency information was provided, so inferred frequency MS will be used.\n",
      "  % freq, ValueWarning)\n",
      "C:\\Users\\k.laxmi.keerti\\AppData\\Local\\anaconda3\\envs\\venv\\lib\\site-packages\\statsmodels\\tsa\\base\\tsa_model.py:527: ValueWarning: No frequency information was provided, so inferred frequency MS will be used.\n",
      "  % freq, ValueWarning)\n",
      "C:\\Users\\k.laxmi.keerti\\AppData\\Local\\anaconda3\\envs\\venv\\lib\\site-packages\\statsmodels\\tsa\\base\\tsa_model.py:527: ValueWarning: No frequency information was provided, so inferred frequency MS will be used.\n",
      "  % freq, ValueWarning)\n",
      "C:\\Users\\k.laxmi.keerti\\AppData\\Local\\anaconda3\\envs\\venv\\lib\\site-packages\\statsmodels\\tsa\\base\\tsa_model.py:527: ValueWarning: No frequency information was provided, so inferred frequency MS will be used.\n",
      "  % freq, ValueWarning)\n",
      "C:\\Users\\k.laxmi.keerti\\AppData\\Local\\anaconda3\\envs\\venv\\lib\\site-packages\\statsmodels\\tsa\\base\\tsa_model.py:527: ValueWarning: No frequency information was provided, so inferred frequency MS will be used.\n",
      "  % freq, ValueWarning)\n",
      "C:\\Users\\k.laxmi.keerti\\AppData\\Local\\anaconda3\\envs\\venv\\lib\\site-packages\\statsmodels\\tsa\\base\\tsa_model.py:527: ValueWarning: No frequency information was provided, so inferred frequency MS will be used.\n",
      "  % freq, ValueWarning)\n"
     ]
    },
    {
     "name": "stdout",
     "output_type": "stream",
     "text": [
      "ARIMA(0, 1, 0)x(0, 1, 1, 12) - AIC:937.7995265380583\n",
      "ARIMA(0, 1, 0)x(1, 0, 0, 12) - AIC:1031.4838983661916\n",
      "ARIMA(0, 1, 0)x(1, 0, 1, 12) - AIC:1015.0000347579889\n",
      "ARIMA(0, 1, 0)x(1, 1, 0, 12) - AIC:944.4876301158429\n"
     ]
    },
    {
     "name": "stderr",
     "output_type": "stream",
     "text": [
      "C:\\Users\\k.laxmi.keerti\\AppData\\Local\\anaconda3\\envs\\venv\\lib\\site-packages\\statsmodels\\tsa\\base\\tsa_model.py:527: ValueWarning: No frequency information was provided, so inferred frequency MS will be used.\n",
      "  % freq, ValueWarning)\n",
      "C:\\Users\\k.laxmi.keerti\\AppData\\Local\\anaconda3\\envs\\venv\\lib\\site-packages\\statsmodels\\tsa\\base\\tsa_model.py:527: ValueWarning: No frequency information was provided, so inferred frequency MS will be used.\n",
      "  % freq, ValueWarning)\n",
      "C:\\Users\\k.laxmi.keerti\\AppData\\Local\\anaconda3\\envs\\venv\\lib\\site-packages\\statsmodels\\tsa\\base\\tsa_model.py:527: ValueWarning: No frequency information was provided, so inferred frequency MS will be used.\n",
      "  % freq, ValueWarning)\n",
      "C:\\Users\\k.laxmi.keerti\\AppData\\Local\\anaconda3\\envs\\venv\\lib\\site-packages\\statsmodels\\tsa\\base\\tsa_model.py:527: ValueWarning: No frequency information was provided, so inferred frequency MS will be used.\n",
      "  % freq, ValueWarning)\n",
      "C:\\Users\\k.laxmi.keerti\\AppData\\Local\\anaconda3\\envs\\venv\\lib\\site-packages\\statsmodels\\tsa\\base\\tsa_model.py:527: ValueWarning: No frequency information was provided, so inferred frequency MS will be used.\n",
      "  % freq, ValueWarning)\n",
      "C:\\Users\\k.laxmi.keerti\\AppData\\Local\\anaconda3\\envs\\venv\\lib\\site-packages\\statsmodels\\tsa\\base\\tsa_model.py:527: ValueWarning: No frequency information was provided, so inferred frequency MS will be used.\n",
      "  % freq, ValueWarning)\n",
      "C:\\Users\\k.laxmi.keerti\\AppData\\Local\\anaconda3\\envs\\venv\\lib\\site-packages\\statsmodels\\tsa\\base\\tsa_model.py:527: ValueWarning: No frequency information was provided, so inferred frequency MS will be used.\n",
      "  % freq, ValueWarning)\n",
      "C:\\Users\\k.laxmi.keerti\\AppData\\Local\\anaconda3\\envs\\venv\\lib\\site-packages\\statsmodels\\tsa\\base\\tsa_model.py:527: ValueWarning: No frequency information was provided, so inferred frequency MS will be used.\n",
      "  % freq, ValueWarning)\n"
     ]
    },
    {
     "name": "stdout",
     "output_type": "stream",
     "text": [
      "ARIMA(0, 1, 0)x(1, 1, 1, 12) - AIC:939.7984372654332\n",
      "ARIMA(0, 1, 1)x(0, 0, 0, 12) - AIC:1379.4417180072915\n",
      "ARIMA(0, 1, 1)x(0, 0, 1, 12) - AIC:1181.6309458759138\n",
      "ARIMA(0, 1, 1)x(0, 1, 0, 12) - AIC:1006.791904739971\n"
     ]
    },
    {
     "name": "stderr",
     "output_type": "stream",
     "text": [
      "C:\\Users\\k.laxmi.keerti\\AppData\\Local\\anaconda3\\envs\\venv\\lib\\site-packages\\statsmodels\\tsa\\base\\tsa_model.py:527: ValueWarning: No frequency information was provided, so inferred frequency MS will be used.\n",
      "  % freq, ValueWarning)\n",
      "C:\\Users\\k.laxmi.keerti\\AppData\\Local\\anaconda3\\envs\\venv\\lib\\site-packages\\statsmodels\\tsa\\base\\tsa_model.py:527: ValueWarning: No frequency information was provided, so inferred frequency MS will be used.\n",
      "  % freq, ValueWarning)\n",
      "C:\\Users\\k.laxmi.keerti\\AppData\\Local\\anaconda3\\envs\\venv\\lib\\site-packages\\statsmodels\\tsa\\base\\tsa_model.py:527: ValueWarning: No frequency information was provided, so inferred frequency MS will be used.\n",
      "  % freq, ValueWarning)\n",
      "C:\\Users\\k.laxmi.keerti\\AppData\\Local\\anaconda3\\envs\\venv\\lib\\site-packages\\statsmodels\\tsa\\base\\tsa_model.py:527: ValueWarning: No frequency information was provided, so inferred frequency MS will be used.\n",
      "  % freq, ValueWarning)\n",
      "C:\\Users\\k.laxmi.keerti\\AppData\\Local\\anaconda3\\envs\\venv\\lib\\site-packages\\statsmodels\\tsa\\base\\tsa_model.py:527: ValueWarning: No frequency information was provided, so inferred frequency MS will be used.\n",
      "  % freq, ValueWarning)\n",
      "C:\\Users\\k.laxmi.keerti\\AppData\\Local\\anaconda3\\envs\\venv\\lib\\site-packages\\statsmodels\\tsa\\base\\tsa_model.py:527: ValueWarning: No frequency information was provided, so inferred frequency MS will be used.\n",
      "  % freq, ValueWarning)\n",
      "C:\\Users\\k.laxmi.keerti\\AppData\\Local\\anaconda3\\envs\\venv\\lib\\site-packages\\statsmodels\\tsa\\base\\tsa_model.py:527: ValueWarning: No frequency information was provided, so inferred frequency MS will be used.\n",
      "  % freq, ValueWarning)\n",
      "C:\\Users\\k.laxmi.keerti\\AppData\\Local\\anaconda3\\envs\\venv\\lib\\site-packages\\statsmodels\\tsa\\base\\tsa_model.py:527: ValueWarning: No frequency information was provided, so inferred frequency MS will be used.\n",
      "  % freq, ValueWarning)\n"
     ]
    },
    {
     "name": "stdout",
     "output_type": "stream",
     "text": [
      "ARIMA(0, 1, 1)x(0, 1, 1, 12) - AIC:920.6308317604695\n",
      "ARIMA(0, 1, 1)x(1, 0, 0, 12) - AIC:1014.2239031825333\n"
     ]
    },
    {
     "name": "stderr",
     "output_type": "stream",
     "text": [
      "C:\\Users\\k.laxmi.keerti\\AppData\\Local\\anaconda3\\envs\\venv\\lib\\site-packages\\statsmodels\\tsa\\base\\tsa_model.py:527: ValueWarning: No frequency information was provided, so inferred frequency MS will be used.\n",
      "  % freq, ValueWarning)\n",
      "C:\\Users\\k.laxmi.keerti\\AppData\\Local\\anaconda3\\envs\\venv\\lib\\site-packages\\statsmodels\\tsa\\base\\tsa_model.py:527: ValueWarning: No frequency information was provided, so inferred frequency MS will be used.\n",
      "  % freq, ValueWarning)\n",
      "C:\\Users\\k.laxmi.keerti\\AppData\\Local\\anaconda3\\envs\\venv\\lib\\site-packages\\statsmodels\\tsa\\base\\tsa_model.py:527: ValueWarning: No frequency information was provided, so inferred frequency MS will be used.\n",
      "  % freq, ValueWarning)\n",
      "C:\\Users\\k.laxmi.keerti\\AppData\\Local\\anaconda3\\envs\\venv\\lib\\site-packages\\statsmodels\\tsa\\base\\tsa_model.py:527: ValueWarning: No frequency information was provided, so inferred frequency MS will be used.\n",
      "  % freq, ValueWarning)\n"
     ]
    },
    {
     "name": "stdout",
     "output_type": "stream",
     "text": [
      "ARIMA(0, 1, 1)x(1, 0, 1, 12) - AIC:985.1362335157714\n",
      "ARIMA(0, 1, 1)x(1, 1, 0, 12) - AIC:934.797542574914\n"
     ]
    },
    {
     "name": "stderr",
     "output_type": "stream",
     "text": [
      "C:\\Users\\k.laxmi.keerti\\AppData\\Local\\anaconda3\\envs\\venv\\lib\\site-packages\\statsmodels\\tsa\\base\\tsa_model.py:527: ValueWarning: No frequency information was provided, so inferred frequency MS will be used.\n",
      "  % freq, ValueWarning)\n",
      "C:\\Users\\k.laxmi.keerti\\AppData\\Local\\anaconda3\\envs\\venv\\lib\\site-packages\\statsmodels\\tsa\\base\\tsa_model.py:527: ValueWarning: No frequency information was provided, so inferred frequency MS will be used.\n",
      "  % freq, ValueWarning)\n",
      "C:\\Users\\k.laxmi.keerti\\AppData\\Local\\anaconda3\\envs\\venv\\lib\\site-packages\\statsmodels\\tsa\\base\\tsa_model.py:527: ValueWarning: No frequency information was provided, so inferred frequency MS will be used.\n",
      "  % freq, ValueWarning)\n",
      "C:\\Users\\k.laxmi.keerti\\AppData\\Local\\anaconda3\\envs\\venv\\lib\\site-packages\\statsmodels\\tsa\\base\\tsa_model.py:527: ValueWarning: No frequency information was provided, so inferred frequency MS will be used.\n",
      "  % freq, ValueWarning)\n"
     ]
    },
    {
     "name": "stdout",
     "output_type": "stream",
     "text": [
      "ARIMA(0, 1, 1)x(1, 1, 1, 12) - AIC:920.3192974989003\n",
      "ARIMA(1, 0, 0)x(0, 0, 0, 12) - AIC:1415.9068815931885\n",
      "ARIMA(1, 0, 0)x(0, 0, 1, 12) - AIC:1205.390778617258\n",
      "ARIMA(1, 0, 0)x(0, 1, 0, 12) - AIC:1029.9773091700697\n"
     ]
    },
    {
     "name": "stderr",
     "output_type": "stream",
     "text": [
      "C:\\Users\\k.laxmi.keerti\\AppData\\Local\\anaconda3\\envs\\venv\\lib\\site-packages\\statsmodels\\tsa\\base\\tsa_model.py:527: ValueWarning: No frequency information was provided, so inferred frequency MS will be used.\n",
      "  % freq, ValueWarning)\n",
      "C:\\Users\\k.laxmi.keerti\\AppData\\Local\\anaconda3\\envs\\venv\\lib\\site-packages\\statsmodels\\tsa\\base\\tsa_model.py:527: ValueWarning: No frequency information was provided, so inferred frequency MS will be used.\n",
      "  % freq, ValueWarning)\n",
      "C:\\Users\\k.laxmi.keerti\\AppData\\Local\\anaconda3\\envs\\venv\\lib\\site-packages\\statsmodels\\base\\model.py:568: ConvergenceWarning: Maximum Likelihood optimization failed to converge. Check mle_retvals\n",
      "  ConvergenceWarning)\n",
      "C:\\Users\\k.laxmi.keerti\\AppData\\Local\\anaconda3\\envs\\venv\\lib\\site-packages\\statsmodels\\tsa\\base\\tsa_model.py:527: ValueWarning: No frequency information was provided, so inferred frequency MS will be used.\n",
      "  % freq, ValueWarning)\n",
      "C:\\Users\\k.laxmi.keerti\\AppData\\Local\\anaconda3\\envs\\venv\\lib\\site-packages\\statsmodels\\tsa\\base\\tsa_model.py:527: ValueWarning: No frequency information was provided, so inferred frequency MS will be used.\n",
      "  % freq, ValueWarning)\n",
      "C:\\Users\\k.laxmi.keerti\\AppData\\Local\\anaconda3\\envs\\venv\\lib\\site-packages\\statsmodels\\tsa\\base\\tsa_model.py:527: ValueWarning: No frequency information was provided, so inferred frequency MS will be used.\n",
      "  % freq, ValueWarning)\n",
      "C:\\Users\\k.laxmi.keerti\\AppData\\Local\\anaconda3\\envs\\venv\\lib\\site-packages\\statsmodels\\tsa\\base\\tsa_model.py:527: ValueWarning: No frequency information was provided, so inferred frequency MS will be used.\n",
      "  % freq, ValueWarning)\n",
      "C:\\Users\\k.laxmi.keerti\\AppData\\Local\\anaconda3\\envs\\venv\\lib\\site-packages\\statsmodels\\tsa\\base\\tsa_model.py:527: ValueWarning: No frequency information was provided, so inferred frequency MS will be used.\n",
      "  % freq, ValueWarning)\n",
      "C:\\Users\\k.laxmi.keerti\\AppData\\Local\\anaconda3\\envs\\venv\\lib\\site-packages\\statsmodels\\tsa\\base\\tsa_model.py:527: ValueWarning: No frequency information was provided, so inferred frequency MS will be used.\n",
      "  % freq, ValueWarning)\n",
      "C:\\Users\\k.laxmi.keerti\\AppData\\Local\\anaconda3\\envs\\venv\\lib\\site-packages\\statsmodels\\tsa\\base\\tsa_model.py:527: ValueWarning: No frequency information was provided, so inferred frequency MS will be used.\n",
      "  % freq, ValueWarning)\n",
      "C:\\Users\\k.laxmi.keerti\\AppData\\Local\\anaconda3\\envs\\venv\\lib\\site-packages\\statsmodels\\tsa\\base\\tsa_model.py:527: ValueWarning: No frequency information was provided, so inferred frequency MS will be used.\n",
      "  % freq, ValueWarning)\n"
     ]
    },
    {
     "name": "stdout",
     "output_type": "stream",
     "text": [
      "ARIMA(1, 0, 0)x(0, 1, 1, 12) - AIC:944.3854921533126\n",
      "ARIMA(1, 0, 0)x(1, 0, 0, 12) - AIC:1017.3155493518586\n"
     ]
    },
    {
     "name": "stderr",
     "output_type": "stream",
     "text": [
      "C:\\Users\\k.laxmi.keerti\\AppData\\Local\\anaconda3\\envs\\venv\\lib\\site-packages\\statsmodels\\tsa\\base\\tsa_model.py:527: ValueWarning: No frequency information was provided, so inferred frequency MS will be used.\n",
      "  % freq, ValueWarning)\n",
      "C:\\Users\\k.laxmi.keerti\\AppData\\Local\\anaconda3\\envs\\venv\\lib\\site-packages\\statsmodels\\tsa\\base\\tsa_model.py:527: ValueWarning: No frequency information was provided, so inferred frequency MS will be used.\n",
      "  % freq, ValueWarning)\n"
     ]
    },
    {
     "name": "stdout",
     "output_type": "stream",
     "text": [
      "ARIMA(1, 0, 0)x(1, 0, 1, 12) - AIC:1007.0272556308005\n",
      "ARIMA(1, 0, 0)x(1, 1, 0, 12) - AIC:944.0441660827272\n"
     ]
    },
    {
     "name": "stderr",
     "output_type": "stream",
     "text": [
      "C:\\Users\\k.laxmi.keerti\\AppData\\Local\\anaconda3\\envs\\venv\\lib\\site-packages\\statsmodels\\tsa\\base\\tsa_model.py:527: ValueWarning: No frequency information was provided, so inferred frequency MS will be used.\n",
      "  % freq, ValueWarning)\n",
      "C:\\Users\\k.laxmi.keerti\\AppData\\Local\\anaconda3\\envs\\venv\\lib\\site-packages\\statsmodels\\tsa\\base\\tsa_model.py:527: ValueWarning: No frequency information was provided, so inferred frequency MS will be used.\n",
      "  % freq, ValueWarning)\n",
      "C:\\Users\\k.laxmi.keerti\\AppData\\Local\\anaconda3\\envs\\venv\\lib\\site-packages\\statsmodels\\tsa\\base\\tsa_model.py:527: ValueWarning: No frequency information was provided, so inferred frequency MS will be used.\n",
      "  % freq, ValueWarning)\n",
      "C:\\Users\\k.laxmi.keerti\\AppData\\Local\\anaconda3\\envs\\venv\\lib\\site-packages\\statsmodels\\tsa\\base\\tsa_model.py:527: ValueWarning: No frequency information was provided, so inferred frequency MS will be used.\n",
      "  % freq, ValueWarning)\n"
     ]
    },
    {
     "name": "stdout",
     "output_type": "stream",
     "text": [
      "ARIMA(1, 0, 0)x(1, 1, 1, 12) - AIC:945.4400866897394\n",
      "ARIMA(1, 0, 1)x(0, 0, 0, 12) - AIC:1390.4515018414754\n"
     ]
    },
    {
     "name": "stderr",
     "output_type": "stream",
     "text": [
      "C:\\Users\\k.laxmi.keerti\\AppData\\Local\\anaconda3\\envs\\venv\\lib\\site-packages\\statsmodels\\tsa\\base\\tsa_model.py:527: ValueWarning: No frequency information was provided, so inferred frequency MS will be used.\n",
      "  % freq, ValueWarning)\n",
      "C:\\Users\\k.laxmi.keerti\\AppData\\Local\\anaconda3\\envs\\venv\\lib\\site-packages\\statsmodels\\tsa\\base\\tsa_model.py:527: ValueWarning: No frequency information was provided, so inferred frequency MS will be used.\n",
      "  % freq, ValueWarning)\n",
      "C:\\Users\\k.laxmi.keerti\\AppData\\Local\\anaconda3\\envs\\venv\\lib\\site-packages\\statsmodels\\tsa\\base\\tsa_model.py:527: ValueWarning: No frequency information was provided, so inferred frequency MS will be used.\n",
      "  % freq, ValueWarning)\n",
      "C:\\Users\\k.laxmi.keerti\\AppData\\Local\\anaconda3\\envs\\venv\\lib\\site-packages\\statsmodels\\tsa\\base\\tsa_model.py:527: ValueWarning: No frequency information was provided, so inferred frequency MS will be used.\n",
      "  % freq, ValueWarning)\n"
     ]
    },
    {
     "name": "stdout",
     "output_type": "stream",
     "text": [
      "ARIMA(1, 0, 1)x(0, 0, 1, 12) - AIC:1192.2949631619497\n",
      "ARIMA(1, 0, 1)x(0, 1, 0, 12) - AIC:1014.2547824623741\n"
     ]
    },
    {
     "name": "stderr",
     "output_type": "stream",
     "text": [
      "C:\\Users\\k.laxmi.keerti\\AppData\\Local\\anaconda3\\envs\\venv\\lib\\site-packages\\statsmodels\\tsa\\base\\tsa_model.py:527: ValueWarning: No frequency information was provided, so inferred frequency MS will be used.\n",
      "  % freq, ValueWarning)\n",
      "C:\\Users\\k.laxmi.keerti\\AppData\\Local\\anaconda3\\envs\\venv\\lib\\site-packages\\statsmodels\\tsa\\base\\tsa_model.py:527: ValueWarning: No frequency information was provided, so inferred frequency MS will be used.\n",
      "  % freq, ValueWarning)\n",
      "C:\\Users\\k.laxmi.keerti\\AppData\\Local\\anaconda3\\envs\\venv\\lib\\site-packages\\statsmodels\\tsa\\base\\tsa_model.py:527: ValueWarning: No frequency information was provided, so inferred frequency MS will be used.\n",
      "  % freq, ValueWarning)\n",
      "C:\\Users\\k.laxmi.keerti\\AppData\\Local\\anaconda3\\envs\\venv\\lib\\site-packages\\statsmodels\\tsa\\base\\tsa_model.py:527: ValueWarning: No frequency information was provided, so inferred frequency MS will be used.\n",
      "  % freq, ValueWarning)\n"
     ]
    },
    {
     "name": "stdout",
     "output_type": "stream",
     "text": [
      "ARIMA(1, 0, 1)x(0, 1, 1, 12) - AIC:929.4329707892165\n",
      "ARIMA(1, 0, 1)x(1, 0, 0, 12) - AIC:1009.5891017291469\n"
     ]
    },
    {
     "name": "stderr",
     "output_type": "stream",
     "text": [
      "C:\\Users\\k.laxmi.keerti\\AppData\\Local\\anaconda3\\envs\\venv\\lib\\site-packages\\statsmodels\\tsa\\base\\tsa_model.py:527: ValueWarning: No frequency information was provided, so inferred frequency MS will be used.\n",
      "  % freq, ValueWarning)\n",
      "C:\\Users\\k.laxmi.keerti\\AppData\\Local\\anaconda3\\envs\\venv\\lib\\site-packages\\statsmodels\\tsa\\base\\tsa_model.py:527: ValueWarning: No frequency information was provided, so inferred frequency MS will be used.\n",
      "  % freq, ValueWarning)\n",
      "C:\\Users\\k.laxmi.keerti\\AppData\\Local\\anaconda3\\envs\\venv\\lib\\site-packages\\statsmodels\\tsa\\base\\tsa_model.py:527: ValueWarning: No frequency information was provided, so inferred frequency MS will be used.\n",
      "  % freq, ValueWarning)\n",
      "C:\\Users\\k.laxmi.keerti\\AppData\\Local\\anaconda3\\envs\\venv\\lib\\site-packages\\statsmodels\\tsa\\base\\tsa_model.py:527: ValueWarning: No frequency information was provided, so inferred frequency MS will be used.\n",
      "  % freq, ValueWarning)\n"
     ]
    },
    {
     "name": "stdout",
     "output_type": "stream",
     "text": [
      "ARIMA(1, 0, 1)x(1, 0, 1, 12) - AIC:989.1764738037684\n",
      "ARIMA(1, 0, 1)x(1, 1, 0, 12) - AIC:935.8163348218233\n"
     ]
    },
    {
     "name": "stderr",
     "output_type": "stream",
     "text": [
      "C:\\Users\\k.laxmi.keerti\\AppData\\Local\\anaconda3\\envs\\venv\\lib\\site-packages\\statsmodels\\tsa\\base\\tsa_model.py:527: ValueWarning: No frequency information was provided, so inferred frequency MS will be used.\n",
      "  % freq, ValueWarning)\n",
      "C:\\Users\\k.laxmi.keerti\\AppData\\Local\\anaconda3\\envs\\venv\\lib\\site-packages\\statsmodels\\tsa\\base\\tsa_model.py:527: ValueWarning: No frequency information was provided, so inferred frequency MS will be used.\n",
      "  % freq, ValueWarning)\n",
      "C:\\Users\\k.laxmi.keerti\\AppData\\Local\\anaconda3\\envs\\venv\\lib\\site-packages\\statsmodels\\tsa\\base\\tsa_model.py:527: ValueWarning: No frequency information was provided, so inferred frequency MS will be used.\n",
      "  % freq, ValueWarning)\n",
      "C:\\Users\\k.laxmi.keerti\\AppData\\Local\\anaconda3\\envs\\venv\\lib\\site-packages\\statsmodels\\tsa\\base\\tsa_model.py:527: ValueWarning: No frequency information was provided, so inferred frequency MS will be used.\n",
      "  % freq, ValueWarning)\n"
     ]
    },
    {
     "name": "stdout",
     "output_type": "stream",
     "text": [
      "ARIMA(1, 0, 1)x(1, 1, 1, 12) - AIC:935.9152860552227\n",
      "ARIMA(1, 1, 0)x(0, 0, 0, 12) - AIC:1392.9437938537153\n",
      "ARIMA(1, 1, 0)x(0, 0, 1, 12) - AIC:1190.5342929076419\n",
      "ARIMA(1, 1, 0)x(0, 1, 0, 12) - AIC:1013.3680449838143\n"
     ]
    },
    {
     "name": "stderr",
     "output_type": "stream",
     "text": [
      "C:\\Users\\k.laxmi.keerti\\AppData\\Local\\anaconda3\\envs\\venv\\lib\\site-packages\\statsmodels\\tsa\\base\\tsa_model.py:527: ValueWarning: No frequency information was provided, so inferred frequency MS will be used.\n",
      "  % freq, ValueWarning)\n",
      "C:\\Users\\k.laxmi.keerti\\AppData\\Local\\anaconda3\\envs\\venv\\lib\\site-packages\\statsmodels\\tsa\\base\\tsa_model.py:527: ValueWarning: No frequency information was provided, so inferred frequency MS will be used.\n",
      "  % freq, ValueWarning)\n",
      "C:\\Users\\k.laxmi.keerti\\AppData\\Local\\anaconda3\\envs\\venv\\lib\\site-packages\\statsmodels\\tsa\\base\\tsa_model.py:527: ValueWarning: No frequency information was provided, so inferred frequency MS will be used.\n",
      "  % freq, ValueWarning)\n",
      "C:\\Users\\k.laxmi.keerti\\AppData\\Local\\anaconda3\\envs\\venv\\lib\\site-packages\\statsmodels\\tsa\\base\\tsa_model.py:527: ValueWarning: No frequency information was provided, so inferred frequency MS will be used.\n",
      "  % freq, ValueWarning)\n",
      "C:\\Users\\k.laxmi.keerti\\AppData\\Local\\anaconda3\\envs\\venv\\lib\\site-packages\\statsmodels\\tsa\\base\\tsa_model.py:527: ValueWarning: No frequency information was provided, so inferred frequency MS will be used.\n",
      "  % freq, ValueWarning)\n",
      "C:\\Users\\k.laxmi.keerti\\AppData\\Local\\anaconda3\\envs\\venv\\lib\\site-packages\\statsmodels\\tsa\\base\\tsa_model.py:527: ValueWarning: No frequency information was provided, so inferred frequency MS will be used.\n",
      "  % freq, ValueWarning)\n",
      "C:\\Users\\k.laxmi.keerti\\AppData\\Local\\anaconda3\\envs\\venv\\lib\\site-packages\\statsmodels\\tsa\\base\\tsa_model.py:527: ValueWarning: No frequency information was provided, so inferred frequency MS will be used.\n",
      "  % freq, ValueWarning)\n",
      "C:\\Users\\k.laxmi.keerti\\AppData\\Local\\anaconda3\\envs\\venv\\lib\\site-packages\\statsmodels\\tsa\\base\\tsa_model.py:527: ValueWarning: No frequency information was provided, so inferred frequency MS will be used.\n",
      "  % freq, ValueWarning)\n"
     ]
    },
    {
     "name": "stdout",
     "output_type": "stream",
     "text": [
      "ARIMA(1, 1, 0)x(0, 1, 1, 12) - AIC:928.1312837305535\n",
      "ARIMA(1, 1, 0)x(1, 0, 0, 12) - AIC:1007.6496486406907\n"
     ]
    },
    {
     "name": "stderr",
     "output_type": "stream",
     "text": [
      "C:\\Users\\k.laxmi.keerti\\AppData\\Local\\anaconda3\\envs\\venv\\lib\\site-packages\\statsmodels\\tsa\\base\\tsa_model.py:527: ValueWarning: No frequency information was provided, so inferred frequency MS will be used.\n",
      "  % freq, ValueWarning)\n",
      "C:\\Users\\k.laxmi.keerti\\AppData\\Local\\anaconda3\\envs\\venv\\lib\\site-packages\\statsmodels\\tsa\\base\\tsa_model.py:527: ValueWarning: No frequency information was provided, so inferred frequency MS will be used.\n",
      "  % freq, ValueWarning)\n",
      "C:\\Users\\k.laxmi.keerti\\AppData\\Local\\anaconda3\\envs\\venv\\lib\\site-packages\\statsmodels\\tsa\\base\\tsa_model.py:527: ValueWarning: No frequency information was provided, so inferred frequency MS will be used.\n",
      "  % freq, ValueWarning)\n",
      "C:\\Users\\k.laxmi.keerti\\AppData\\Local\\anaconda3\\envs\\venv\\lib\\site-packages\\statsmodels\\tsa\\base\\tsa_model.py:527: ValueWarning: No frequency information was provided, so inferred frequency MS will be used.\n",
      "  % freq, ValueWarning)\n"
     ]
    },
    {
     "name": "stdout",
     "output_type": "stream",
     "text": [
      "ARIMA(1, 1, 0)x(1, 0, 1, 12) - AIC:995.4636249453719\n",
      "ARIMA(1, 1, 0)x(1, 1, 0, 12) - AIC:927.5904374710257\n"
     ]
    },
    {
     "name": "stderr",
     "output_type": "stream",
     "text": [
      "C:\\Users\\k.laxmi.keerti\\AppData\\Local\\anaconda3\\envs\\venv\\lib\\site-packages\\statsmodels\\tsa\\base\\tsa_model.py:527: ValueWarning: No frequency information was provided, so inferred frequency MS will be used.\n",
      "  % freq, ValueWarning)\n",
      "C:\\Users\\k.laxmi.keerti\\AppData\\Local\\anaconda3\\envs\\venv\\lib\\site-packages\\statsmodels\\tsa\\base\\tsa_model.py:527: ValueWarning: No frequency information was provided, so inferred frequency MS will be used.\n",
      "  % freq, ValueWarning)\n",
      "C:\\Users\\k.laxmi.keerti\\AppData\\Local\\anaconda3\\envs\\venv\\lib\\site-packages\\statsmodels\\tsa\\base\\tsa_model.py:527: ValueWarning: No frequency information was provided, so inferred frequency MS will be used.\n",
      "  % freq, ValueWarning)\n",
      "C:\\Users\\k.laxmi.keerti\\AppData\\Local\\anaconda3\\envs\\venv\\lib\\site-packages\\statsmodels\\tsa\\base\\tsa_model.py:527: ValueWarning: No frequency information was provided, so inferred frequency MS will be used.\n",
      "  % freq, ValueWarning)\n"
     ]
    },
    {
     "name": "stdout",
     "output_type": "stream",
     "text": [
      "ARIMA(1, 1, 0)x(1, 1, 1, 12) - AIC:928.1418620185472\n",
      "ARIMA(1, 1, 1)x(0, 0, 0, 12) - AIC:1377.292685893079\n"
     ]
    },
    {
     "name": "stderr",
     "output_type": "stream",
     "text": [
      "C:\\Users\\k.laxmi.keerti\\AppData\\Local\\anaconda3\\envs\\venv\\lib\\site-packages\\statsmodels\\tsa\\base\\tsa_model.py:527: ValueWarning: No frequency information was provided, so inferred frequency MS will be used.\n",
      "  % freq, ValueWarning)\n",
      "C:\\Users\\k.laxmi.keerti\\AppData\\Local\\anaconda3\\envs\\venv\\lib\\site-packages\\statsmodels\\tsa\\base\\tsa_model.py:527: ValueWarning: No frequency information was provided, so inferred frequency MS will be used.\n",
      "  % freq, ValueWarning)\n",
      "C:\\Users\\k.laxmi.keerti\\AppData\\Local\\anaconda3\\envs\\venv\\lib\\site-packages\\statsmodels\\tsa\\base\\tsa_model.py:527: ValueWarning: No frequency information was provided, so inferred frequency MS will be used.\n",
      "  % freq, ValueWarning)\n",
      "C:\\Users\\k.laxmi.keerti\\AppData\\Local\\anaconda3\\envs\\venv\\lib\\site-packages\\statsmodels\\tsa\\base\\tsa_model.py:527: ValueWarning: No frequency information was provided, so inferred frequency MS will be used.\n",
      "  % freq, ValueWarning)\n"
     ]
    },
    {
     "name": "stdout",
     "output_type": "stream",
     "text": [
      "ARIMA(1, 1, 1)x(0, 0, 1, 12) - AIC:1185.3340359693436\n",
      "ARIMA(1, 1, 1)x(0, 1, 0, 12) - AIC:1008.5528813487201\n"
     ]
    },
    {
     "name": "stderr",
     "output_type": "stream",
     "text": [
      "C:\\Users\\k.laxmi.keerti\\AppData\\Local\\anaconda3\\envs\\venv\\lib\\site-packages\\statsmodels\\tsa\\base\\tsa_model.py:527: ValueWarning: No frequency information was provided, so inferred frequency MS will be used.\n",
      "  % freq, ValueWarning)\n",
      "C:\\Users\\k.laxmi.keerti\\AppData\\Local\\anaconda3\\envs\\venv\\lib\\site-packages\\statsmodels\\tsa\\base\\tsa_model.py:527: ValueWarning: No frequency information was provided, so inferred frequency MS will be used.\n",
      "  % freq, ValueWarning)\n",
      "C:\\Users\\k.laxmi.keerti\\AppData\\Local\\anaconda3\\envs\\venv\\lib\\site-packages\\statsmodels\\tsa\\base\\tsa_model.py:527: ValueWarning: No frequency information was provided, so inferred frequency MS will be used.\n",
      "  % freq, ValueWarning)\n",
      "C:\\Users\\k.laxmi.keerti\\AppData\\Local\\anaconda3\\envs\\venv\\lib\\site-packages\\statsmodels\\tsa\\base\\tsa_model.py:527: ValueWarning: No frequency information was provided, so inferred frequency MS will be used.\n",
      "  % freq, ValueWarning)\n"
     ]
    },
    {
     "name": "stdout",
     "output_type": "stream",
     "text": [
      "ARIMA(1, 1, 1)x(0, 1, 1, 12) - AIC:922.4148960116245\n",
      "ARIMA(1, 1, 1)x(1, 0, 0, 12) - AIC:1009.1896100681691\n"
     ]
    },
    {
     "name": "stderr",
     "output_type": "stream",
     "text": [
      "C:\\Users\\k.laxmi.keerti\\AppData\\Local\\anaconda3\\envs\\venv\\lib\\site-packages\\statsmodels\\tsa\\base\\tsa_model.py:527: ValueWarning: No frequency information was provided, so inferred frequency MS will be used.\n",
      "  % freq, ValueWarning)\n",
      "C:\\Users\\k.laxmi.keerti\\AppData\\Local\\anaconda3\\envs\\venv\\lib\\site-packages\\statsmodels\\tsa\\base\\tsa_model.py:527: ValueWarning: No frequency information was provided, so inferred frequency MS will be used.\n",
      "  % freq, ValueWarning)\n",
      "C:\\Users\\k.laxmi.keerti\\AppData\\Local\\anaconda3\\envs\\venv\\lib\\site-packages\\statsmodels\\tsa\\base\\tsa_model.py:527: ValueWarning: No frequency information was provided, so inferred frequency MS will be used.\n",
      "  % freq, ValueWarning)\n",
      "C:\\Users\\k.laxmi.keerti\\AppData\\Local\\anaconda3\\envs\\venv\\lib\\site-packages\\statsmodels\\tsa\\base\\tsa_model.py:527: ValueWarning: No frequency information was provided, so inferred frequency MS will be used.\n",
      "  % freq, ValueWarning)\n"
     ]
    },
    {
     "name": "stdout",
     "output_type": "stream",
     "text": [
      "ARIMA(1, 1, 1)x(1, 0, 1, 12) - AIC:987.1339264637013\n",
      "ARIMA(1, 1, 1)x(1, 1, 0, 12) - AIC:929.5756208330627\n"
     ]
    },
    {
     "name": "stderr",
     "output_type": "stream",
     "text": [
      "C:\\Users\\k.laxmi.keerti\\AppData\\Local\\anaconda3\\envs\\venv\\lib\\site-packages\\statsmodels\\tsa\\base\\tsa_model.py:527: ValueWarning: No frequency information was provided, so inferred frequency MS will be used.\n",
      "  % freq, ValueWarning)\n",
      "C:\\Users\\k.laxmi.keerti\\AppData\\Local\\anaconda3\\envs\\venv\\lib\\site-packages\\statsmodels\\tsa\\base\\tsa_model.py:527: ValueWarning: No frequency information was provided, so inferred frequency MS will be used.\n",
      "  % freq, ValueWarning)\n",
      "C:\\Users\\k.laxmi.keerti\\AppData\\Local\\anaconda3\\envs\\venv\\lib\\site-packages\\statsmodels\\tsa\\base\\tsa_model.py:527: ValueWarning: No frequency information was provided, so inferred frequency MS will be used.\n",
      "  % freq, ValueWarning)\n",
      "C:\\Users\\k.laxmi.keerti\\AppData\\Local\\anaconda3\\envs\\venv\\lib\\site-packages\\statsmodels\\tsa\\base\\tsa_model.py:527: ValueWarning: No frequency information was provided, so inferred frequency MS will be used.\n",
      "  % freq, ValueWarning)\n"
     ]
    },
    {
     "name": "stdout",
     "output_type": "stream",
     "text": [
      "ARIMA(1, 1, 1)x(1, 1, 1, 12) - AIC:922.2053774352157\n"
     ]
    }
   ],
   "source": [
    "# Implementing above parameters by using permutation & combination approach to get the best AIC value.\n",
    "\n",
    "\n",
    "for param in pdq:\n",
    "    for param_seasonal in seasonal_pdq:\n",
    "        try:\n",
    "            model=sm.tsa.statespace.SARIMAX(dataset['Thousand of Passengers'],\n",
    "                                            order=param,\n",
    "                                            seasonal_order=param_seasonal,\n",
    "                                            enforce_stationarity=False,\n",
    "                                            enforce_invertibility=False)\n",
    "            result=model.fit()\n",
    "            print('ARIMA{}x{} - AIC:{}'.format(param,param_seasonal,result.aic))\n",
    "        except:\n",
    "            continue"
   ]
  },
  {
   "cell_type": "code",
   "execution_count": 64,
   "id": "08073b64",
   "metadata": {},
   "outputs": [],
   "source": [
    "#ARIMA(1, 1, 1)x(1, 1, 1, 12) - AIC:922.2053774352157\n",
    "#ARIMA(0, 1, 1)x(1, 1, 1, 12) - AIC:920.3192974989003\n",
    "#these are best ones"
   ]
  },
  {
   "cell_type": "code",
   "execution_count": 65,
   "id": "78817ec5",
   "metadata": {},
   "outputs": [
    {
     "data": {
      "text/plain": [
       "<AxesSubplot:xlabel='Month'>"
      ]
     },
     "execution_count": 65,
     "metadata": {},
     "output_type": "execute_result"
    },
    {
     "data": {
      "image/png": "[encoded data removed]",
      "text/plain": [
       "<Figure size 432x288 with 1 Axes>"
      ]
     },
     "metadata": {
      "needs_background": "light"
     },
     "output_type": "display_data"
    }
   ],
   "source": [
    "# validate whether model is correct or not\n",
    "\n",
    "dataset['forecast']=result.predict(start=130,end=144,dynamic=True)\n",
    "dataset[['Thousand of Passengers','forecast']].plot()\n"
   ]
  },
  {
   "cell_type": "code",
   "execution_count": 66,
   "id": "f765ee19",
   "metadata": {},
   "outputs": [],
   "source": [
    "# Model is absolutely correct & its ready to forecast passenger value"
   ]
  },
  {
   "cell_type": "code",
   "execution_count": 67,
   "id": "d192b105",
   "metadata": {},
   "outputs": [],
   "source": [
    "from pandas.tseries.offsets import DateOffset"
   ]
  },
  {
   "cell_type": "code",
   "execution_count": 68,
   "id": "c3bbc7bf",
   "metadata": {},
   "outputs": [],
   "source": [
    "#To add future dates for next 5 years i.e 60 months\n",
    "future_dates=[dataset.index[-1] + DateOffset(months=x) for x in range(0,60)]"
   ]
  },
  {
   "cell_type": "code",
   "execution_count": 69,
   "id": "c4869fad",
   "metadata": {},
   "outputs": [
    {
     "data": {
      "text/plain": [
       "[Timestamp('1960-12-01 00:00:00'),\n",
       " Timestamp('1961-01-01 00:00:00'),\n",
       " Timestamp('1961-02-01 00:00:00'),\n",
       " Timestamp('1961-03-01 00:00:00'),\n",
       " Timestamp('1961-04-01 00:00:00'),\n",
       " Timestamp('1961-05-01 00:00:00'),\n",
       " Timestamp('1961-06-01 00:00:00'),\n",
       " Timestamp('1961-07-01 00:00:00'),\n",
       " Timestamp('1961-08-01 00:00:00'),\n",
       " Timestamp('1961-09-01 00:00:00'),\n",
       " Timestamp('1961-10-01 00:00:00'),\n",
       " Timestamp('1961-11-01 00:00:00'),\n",
       " Timestamp('1961-12-01 00:00:00'),\n",
       " Timestamp('1962-01-01 00:00:00'),\n",
       " Timestamp('1962-02-01 00:00:00'),\n",
       " Timestamp('1962-03-01 00:00:00'),\n",
       " Timestamp('1962-04-01 00:00:00'),\n",
       " Timestamp('1962-05-01 00:00:00'),\n",
       " Timestamp('1962-06-01 00:00:00'),\n",
       " Timestamp('1962-07-01 00:00:00'),\n",
       " Timestamp('1962-08-01 00:00:00'),\n",
       " Timestamp('1962-09-01 00:00:00'),\n",
       " Timestamp('1962-10-01 00:00:00'),\n",
       " Timestamp('1962-11-01 00:00:00'),\n",
       " Timestamp('1962-12-01 00:00:00'),\n",
       " Timestamp('1963-01-01 00:00:00'),\n",
       " Timestamp('1963-02-01 00:00:00'),\n",
       " Timestamp('1963-03-01 00:00:00'),\n",
       " Timestamp('1963-04-01 00:00:00'),\n",
       " Timestamp('1963-05-01 00:00:00'),\n",
       " Timestamp('1963-06-01 00:00:00'),\n",
       " Timestamp('1963-07-01 00:00:00'),\n",
       " Timestamp('1963-08-01 00:00:00'),\n",
       " Timestamp('1963-09-01 00:00:00'),\n",
       " Timestamp('1963-10-01 00:00:00'),\n",
       " Timestamp('1963-11-01 00:00:00'),\n",
       " Timestamp('1963-12-01 00:00:00'),\n",
       " Timestamp('1964-01-01 00:00:00'),\n",
       " Timestamp('1964-02-01 00:00:00'),\n",
       " Timestamp('1964-03-01 00:00:00'),\n",
       " Timestamp('1964-04-01 00:00:00'),\n",
       " Timestamp('1964-05-01 00:00:00'),\n",
       " Timestamp('1964-06-01 00:00:00'),\n",
       " Timestamp('1964-07-01 00:00:00'),\n",
       " Timestamp('1964-08-01 00:00:00'),\n",
       " Timestamp('1964-09-01 00:00:00'),\n",
       " Timestamp('1964-10-01 00:00:00'),\n",
       " Timestamp('1964-11-01 00:00:00'),\n",
       " Timestamp('1964-12-01 00:00:00'),\n",
       " Timestamp('1965-01-01 00:00:00'),\n",
       " Timestamp('1965-02-01 00:00:00'),\n",
       " Timestamp('1965-03-01 00:00:00'),\n",
       " Timestamp('1965-04-01 00:00:00'),\n",
       " Timestamp('1965-05-01 00:00:00'),\n",
       " Timestamp('1965-06-01 00:00:00'),\n",
       " Timestamp('1965-07-01 00:00:00'),\n",
       " Timestamp('1965-08-01 00:00:00'),\n",
       " Timestamp('1965-09-01 00:00:00'),\n",
       " Timestamp('1965-10-01 00:00:00'),\n",
       " Timestamp('1965-11-01 00:00:00')]"
      ]
     },
     "execution_count": 69,
     "metadata": {},
     "output_type": "execute_result"
    }
   ],
   "source": [
    "future_dates"
   ]
  },
  {
   "cell_type": "code",
   "execution_count": 70,
   "id": "347a4d3d",
   "metadata": {},
   "outputs": [],
   "source": [
    "future_dates_df=pd.DataFrame(index=future_dates[1:],columns=dataset.columns)"
   ]
  },
  {
   "cell_type": "code",
   "execution_count": 71,
   "id": "c388bc37",
   "metadata": {},
   "outputs": [
    {
     "data": {
      "text/html": [
       "<div>\n",
       "<style scoped>\n",
       "    .dataframe tbody tr th:only-of-type {\n",
       "        vertical-align: middle;\n",
       "    }\n",
       "\n",
       "    .dataframe tbody tr th {\n",
       "        vertical-align: top;\n",
       "    }\n",
       "\n",
       "    .dataframe thead th {\n",
       "        text-align: right;\n",
       "    }\n",
       "</style>\n",
       "<table border=\"1\" class=\"dataframe\">\n",
       "  <thead>\n",
       "    <tr style=\"text-align: right;\">\n",
       "      <th></th>\n",
       "      <th>Thousand of Passengers</th>\n",
       "      <th>1st Difference</th>\n",
       "      <th>2nd Difference</th>\n",
       "      <th>Seasonality</th>\n",
       "      <th>forecast</th>\n",
       "    </tr>\n",
       "  </thead>\n",
       "  <tbody>\n",
       "    <tr>\n",
       "      <th>1961-01-01</th>\n",
       "      <td>NaN</td>\n",
       "      <td>NaN</td>\n",
       "      <td>NaN</td>\n",
       "      <td>NaN</td>\n",
       "      <td>NaN</td>\n",
       "    </tr>\n",
       "    <tr>\n",
       "      <th>1961-02-01</th>\n",
       "      <td>NaN</td>\n",
       "      <td>NaN</td>\n",
       "      <td>NaN</td>\n",
       "      <td>NaN</td>\n",
       "      <td>NaN</td>\n",
       "    </tr>\n",
       "    <tr>\n",
       "      <th>1961-03-01</th>\n",
       "      <td>NaN</td>\n",
       "      <td>NaN</td>\n",
       "      <td>NaN</td>\n",
       "      <td>NaN</td>\n",
       "      <td>NaN</td>\n",
       "    </tr>\n",
       "    <tr>\n",
       "      <th>1961-04-01</th>\n",
       "      <td>NaN</td>\n",
       "      <td>NaN</td>\n",
       "      <td>NaN</td>\n",
       "      <td>NaN</td>\n",
       "      <td>NaN</td>\n",
       "    </tr>\n",
       "    <tr>\n",
       "      <th>1961-05-01</th>\n",
       "      <td>NaN</td>\n",
       "      <td>NaN</td>\n",
       "      <td>NaN</td>\n",
       "      <td>NaN</td>\n",
       "      <td>NaN</td>\n",
       "    </tr>\n",
       "  </tbody>\n",
       "</table>\n",
       "</div>"
      ],
      "text/plain": [
       "           Thousand of Passengers 1st Difference 2nd Difference Seasonality  \\\n",
       "1961-01-01                    NaN            NaN            NaN         NaN   \n",
       "1961-02-01                    NaN            NaN            NaN         NaN   \n",
       "1961-03-01                    NaN            NaN            NaN         NaN   \n",
       "1961-04-01                    NaN            NaN            NaN         NaN   \n",
       "1961-05-01                    NaN            NaN            NaN         NaN   \n",
       "\n",
       "           forecast  \n",
       "1961-01-01      NaN  \n",
       "1961-02-01      NaN  \n",
       "1961-03-01      NaN  \n",
       "1961-04-01      NaN  \n",
       "1961-05-01      NaN  "
      ]
     },
     "execution_count": 71,
     "metadata": {},
     "output_type": "execute_result"
    }
   ],
   "source": [
    "future_dates_df.head()"
   ]
  },
  {
   "cell_type": "code",
   "execution_count": 72,
   "id": "e9eefe8a",
   "metadata": {},
   "outputs": [
    {
     "data": {
      "text/html": [
       "<div>\n",
       "<style scoped>\n",
       "    .dataframe tbody tr th:only-of-type {\n",
       "        vertical-align: middle;\n",
       "    }\n",
       "\n",
       "    .dataframe tbody tr th {\n",
       "        vertical-align: top;\n",
       "    }\n",
       "\n",
       "    .dataframe thead th {\n",
       "        text-align: right;\n",
       "    }\n",
       "</style>\n",
       "<table border=\"1\" class=\"dataframe\">\n",
       "  <thead>\n",
       "    <tr style=\"text-align: right;\">\n",
       "      <th></th>\n",
       "      <th>Thousand of Passengers</th>\n",
       "      <th>1st Difference</th>\n",
       "      <th>2nd Difference</th>\n",
       "      <th>Seasonality</th>\n",
       "      <th>forecast</th>\n",
       "    </tr>\n",
       "  </thead>\n",
       "  <tbody>\n",
       "    <tr>\n",
       "      <th>1965-07-01</th>\n",
       "      <td>NaN</td>\n",
       "      <td>NaN</td>\n",
       "      <td>NaN</td>\n",
       "      <td>NaN</td>\n",
       "      <td>NaN</td>\n",
       "    </tr>\n",
       "    <tr>\n",
       "      <th>1965-08-01</th>\n",
       "      <td>NaN</td>\n",
       "      <td>NaN</td>\n",
       "      <td>NaN</td>\n",
       "      <td>NaN</td>\n",
       "      <td>NaN</td>\n",
       "    </tr>\n",
       "    <tr>\n",
       "      <th>1965-09-01</th>\n",
       "      <td>NaN</td>\n",
       "      <td>NaN</td>\n",
       "      <td>NaN</td>\n",
       "      <td>NaN</td>\n",
       "      <td>NaN</td>\n",
       "    </tr>\n",
       "    <tr>\n",
       "      <th>1965-10-01</th>\n",
       "      <td>NaN</td>\n",
       "      <td>NaN</td>\n",
       "      <td>NaN</td>\n",
       "      <td>NaN</td>\n",
       "      <td>NaN</td>\n",
       "    </tr>\n",
       "    <tr>\n",
       "      <th>1965-11-01</th>\n",
       "      <td>NaN</td>\n",
       "      <td>NaN</td>\n",
       "      <td>NaN</td>\n",
       "      <td>NaN</td>\n",
       "      <td>NaN</td>\n",
       "    </tr>\n",
       "  </tbody>\n",
       "</table>\n",
       "</div>"
      ],
      "text/plain": [
       "           Thousand of Passengers 1st Difference 2nd Difference Seasonality  \\\n",
       "1965-07-01                    NaN            NaN            NaN         NaN   \n",
       "1965-08-01                    NaN            NaN            NaN         NaN   \n",
       "1965-09-01                    NaN            NaN            NaN         NaN   \n",
       "1965-10-01                    NaN            NaN            NaN         NaN   \n",
       "1965-11-01                    NaN            NaN            NaN         NaN   \n",
       "\n",
       "           forecast  \n",
       "1965-07-01      NaN  \n",
       "1965-08-01      NaN  \n",
       "1965-09-01      NaN  \n",
       "1965-10-01      NaN  \n",
       "1965-11-01      NaN  "
      ]
     },
     "execution_count": 72,
     "metadata": {},
     "output_type": "execute_result"
    }
   ],
   "source": [
    "future_dates_df.tail()"
   ]
  },
  {
   "cell_type": "code",
   "execution_count": 73,
   "id": "53d18df6",
   "metadata": {},
   "outputs": [],
   "source": [
    "# concatenate dataset & future dataframe\n",
    "\n",
    "future_df=pd.concat([dataset,future_dates_df])"
   ]
  },
  {
   "cell_type": "code",
   "execution_count": 74,
   "id": "de207474",
   "metadata": {},
   "outputs": [
    {
     "data": {
      "text/html": [
       "<div>\n",
       "<style scoped>\n",
       "    .dataframe tbody tr th:only-of-type {\n",
       "        vertical-align: middle;\n",
       "    }\n",
       "\n",
       "    .dataframe tbody tr th {\n",
       "        vertical-align: top;\n",
       "    }\n",
       "\n",
       "    .dataframe thead th {\n",
       "        text-align: right;\n",
       "    }\n",
       "</style>\n",
       "<table border=\"1\" class=\"dataframe\">\n",
       "  <thead>\n",
       "    <tr style=\"text-align: right;\">\n",
       "      <th></th>\n",
       "      <th>Thousand of Passengers</th>\n",
       "      <th>1st Difference</th>\n",
       "      <th>2nd Difference</th>\n",
       "      <th>Seasonality</th>\n",
       "      <th>forecast</th>\n",
       "    </tr>\n",
       "  </thead>\n",
       "  <tbody>\n",
       "    <tr>\n",
       "      <th>1949-01-01</th>\n",
       "      <td>112</td>\n",
       "      <td>NaN</td>\n",
       "      <td>NaN</td>\n",
       "      <td>NaN</td>\n",
       "      <td>NaN</td>\n",
       "    </tr>\n",
       "    <tr>\n",
       "      <th>1949-02-01</th>\n",
       "      <td>118</td>\n",
       "      <td>6.0</td>\n",
       "      <td>NaN</td>\n",
       "      <td>NaN</td>\n",
       "      <td>NaN</td>\n",
       "    </tr>\n",
       "    <tr>\n",
       "      <th>1949-03-01</th>\n",
       "      <td>132</td>\n",
       "      <td>14.0</td>\n",
       "      <td>8.0</td>\n",
       "      <td>NaN</td>\n",
       "      <td>NaN</td>\n",
       "    </tr>\n",
       "    <tr>\n",
       "      <th>1949-04-01</th>\n",
       "      <td>129</td>\n",
       "      <td>-3.0</td>\n",
       "      <td>-17.0</td>\n",
       "      <td>NaN</td>\n",
       "      <td>NaN</td>\n",
       "    </tr>\n",
       "    <tr>\n",
       "      <th>1949-05-01</th>\n",
       "      <td>121</td>\n",
       "      <td>-8.0</td>\n",
       "      <td>-5.0</td>\n",
       "      <td>NaN</td>\n",
       "      <td>NaN</td>\n",
       "    </tr>\n",
       "  </tbody>\n",
       "</table>\n",
       "</div>"
      ],
      "text/plain": [
       "           Thousand of Passengers  1st Difference  2nd Difference  \\\n",
       "1949-01-01                    112             NaN             NaN   \n",
       "1949-02-01                    118             6.0             NaN   \n",
       "1949-03-01                    132            14.0             8.0   \n",
       "1949-04-01                    129            -3.0           -17.0   \n",
       "1949-05-01                    121            -8.0            -5.0   \n",
       "\n",
       "            Seasonality  forecast  \n",
       "1949-01-01          NaN       NaN  \n",
       "1949-02-01          NaN       NaN  \n",
       "1949-03-01          NaN       NaN  \n",
       "1949-04-01          NaN       NaN  \n",
       "1949-05-01          NaN       NaN  "
      ]
     },
     "execution_count": 74,
     "metadata": {},
     "output_type": "execute_result"
    }
   ],
   "source": [
    "future_df.head()"
   ]
  },
  {
   "cell_type": "code",
   "execution_count": 75,
   "id": "f500c46f",
   "metadata": {},
   "outputs": [
    {
     "data": {
      "text/html": [
       "<div>\n",
       "<style scoped>\n",
       "    .dataframe tbody tr th:only-of-type {\n",
       "        vertical-align: middle;\n",
       "    }\n",
       "\n",
       "    .dataframe tbody tr th {\n",
       "        vertical-align: top;\n",
       "    }\n",
       "\n",
       "    .dataframe thead th {\n",
       "        text-align: right;\n",
       "    }\n",
       "</style>\n",
       "<table border=\"1\" class=\"dataframe\">\n",
       "  <thead>\n",
       "    <tr style=\"text-align: right;\">\n",
       "      <th></th>\n",
       "      <th>Thousand of Passengers</th>\n",
       "      <th>1st Difference</th>\n",
       "      <th>2nd Difference</th>\n",
       "      <th>Seasonality</th>\n",
       "      <th>forecast</th>\n",
       "    </tr>\n",
       "  </thead>\n",
       "  <tbody>\n",
       "    <tr>\n",
       "      <th>1965-07-01</th>\n",
       "      <td>NaN</td>\n",
       "      <td>NaN</td>\n",
       "      <td>NaN</td>\n",
       "      <td>NaN</td>\n",
       "      <td>NaN</td>\n",
       "    </tr>\n",
       "    <tr>\n",
       "      <th>1965-08-01</th>\n",
       "      <td>NaN</td>\n",
       "      <td>NaN</td>\n",
       "      <td>NaN</td>\n",
       "      <td>NaN</td>\n",
       "      <td>NaN</td>\n",
       "    </tr>\n",
       "    <tr>\n",
       "      <th>1965-09-01</th>\n",
       "      <td>NaN</td>\n",
       "      <td>NaN</td>\n",
       "      <td>NaN</td>\n",
       "      <td>NaN</td>\n",
       "      <td>NaN</td>\n",
       "    </tr>\n",
       "    <tr>\n",
       "      <th>1965-10-01</th>\n",
       "      <td>NaN</td>\n",
       "      <td>NaN</td>\n",
       "      <td>NaN</td>\n",
       "      <td>NaN</td>\n",
       "      <td>NaN</td>\n",
       "    </tr>\n",
       "    <tr>\n",
       "      <th>1965-11-01</th>\n",
       "      <td>NaN</td>\n",
       "      <td>NaN</td>\n",
       "      <td>NaN</td>\n",
       "      <td>NaN</td>\n",
       "      <td>NaN</td>\n",
       "    </tr>\n",
       "  </tbody>\n",
       "</table>\n",
       "</div>"
      ],
      "text/plain": [
       "           Thousand of Passengers  1st Difference  2nd Difference  \\\n",
       "1965-07-01                    NaN             NaN             NaN   \n",
       "1965-08-01                    NaN             NaN             NaN   \n",
       "1965-09-01                    NaN             NaN             NaN   \n",
       "1965-10-01                    NaN             NaN             NaN   \n",
       "1965-11-01                    NaN             NaN             NaN   \n",
       "\n",
       "            Seasonality  forecast  \n",
       "1965-07-01          NaN       NaN  \n",
       "1965-08-01          NaN       NaN  \n",
       "1965-09-01          NaN       NaN  \n",
       "1965-10-01          NaN       NaN  \n",
       "1965-11-01          NaN       NaN  "
      ]
     },
     "execution_count": 75,
     "metadata": {},
     "output_type": "execute_result"
    }
   ],
   "source": [
    "future_df.tail()"
   ]
  },
  {
   "cell_type": "code",
   "execution_count": 81,
   "id": "121623ea",
   "metadata": {},
   "outputs": [
    {
     "name": "stderr",
     "output_type": "stream",
     "text": [
      "C:\\Users\\k.laxmi.keerti\\AppData\\Local\\anaconda3\\envs\\venv\\lib\\site-packages\\statsmodels\\tsa\\statespace\\kalman_filter.py:2292: ValueWarning: Dynamic prediction specified to begin during out-of-sample forecasting period, and so has no effect.\n",
      "  ' effect.', ValueWarning)\n"
     ]
    },
    {
     "data": {
      "text/plain": [
       "<AxesSubplot:>"
      ]
     },
     "execution_count": 81,
     "metadata": {},
     "output_type": "execute_result"
    },
    {
     "data": {
      "image/png": "[encoded data removed]",
      "text/plain": [
       "<Figure size 432x288 with 1 Axes>"
      ]
     },
     "metadata": {
      "needs_background": "light"
     },
     "output_type": "display_data"
    }
   ],
   "source": [
    "future_df['forecast']=result.predict(start=145,end=203,dynamic=True)\n",
    "future_df[['Thousand of Passengers','forecast']].plot()"
   ]
  },
  {
   "cell_type": "code",
   "execution_count": 82,
   "id": "cf7e229b",
   "metadata": {},
   "outputs": [
    {
     "data": {
      "text/html": [
       "<div>\n",
       "<style scoped>\n",
       "    .dataframe tbody tr th:only-of-type {\n",
       "        vertical-align: middle;\n",
       "    }\n",
       "\n",
       "    .dataframe tbody tr th {\n",
       "        vertical-align: top;\n",
       "    }\n",
       "\n",
       "    .dataframe thead th {\n",
       "        text-align: right;\n",
       "    }\n",
       "</style>\n",
       "<table border=\"1\" class=\"dataframe\">\n",
       "  <thead>\n",
       "    <tr style=\"text-align: right;\">\n",
       "      <th></th>\n",
       "      <th>Thousand of Passengers</th>\n",
       "      <th>1st Difference</th>\n",
       "      <th>2nd Difference</th>\n",
       "      <th>Seasonality</th>\n",
       "      <th>forecast</th>\n",
       "    </tr>\n",
       "  </thead>\n",
       "  <tbody>\n",
       "    <tr>\n",
       "      <th>1965-07-01</th>\n",
       "      <td>NaN</td>\n",
       "      <td>NaN</td>\n",
       "      <td>NaN</td>\n",
       "      <td>NaN</td>\n",
       "      <td>790.385799</td>\n",
       "    </tr>\n",
       "    <tr>\n",
       "      <th>1965-08-01</th>\n",
       "      <td>NaN</td>\n",
       "      <td>NaN</td>\n",
       "      <td>NaN</td>\n",
       "      <td>NaN</td>\n",
       "      <td>776.859822</td>\n",
       "    </tr>\n",
       "    <tr>\n",
       "      <th>1965-09-01</th>\n",
       "      <td>NaN</td>\n",
       "      <td>NaN</td>\n",
       "      <td>NaN</td>\n",
       "      <td>NaN</td>\n",
       "      <td>679.826012</td>\n",
       "    </tr>\n",
       "    <tr>\n",
       "      <th>1965-10-01</th>\n",
       "      <td>NaN</td>\n",
       "      <td>NaN</td>\n",
       "      <td>NaN</td>\n",
       "      <td>NaN</td>\n",
       "      <td>631.244533</td>\n",
       "    </tr>\n",
       "    <tr>\n",
       "      <th>1965-11-01</th>\n",
       "      <td>NaN</td>\n",
       "      <td>NaN</td>\n",
       "      <td>NaN</td>\n",
       "      <td>NaN</td>\n",
       "      <td>563.100487</td>\n",
       "    </tr>\n",
       "  </tbody>\n",
       "</table>\n",
       "</div>"
      ],
      "text/plain": [
       "           Thousand of Passengers  1st Difference  2nd Difference  \\\n",
       "1965-07-01                    NaN             NaN             NaN   \n",
       "1965-08-01                    NaN             NaN             NaN   \n",
       "1965-09-01                    NaN             NaN             NaN   \n",
       "1965-10-01                    NaN             NaN             NaN   \n",
       "1965-11-01                    NaN             NaN             NaN   \n",
       "\n",
       "            Seasonality    forecast  \n",
       "1965-07-01          NaN  790.385799  \n",
       "1965-08-01          NaN  776.859822  \n",
       "1965-09-01          NaN  679.826012  \n",
       "1965-10-01          NaN  631.244533  \n",
       "1965-11-01          NaN  563.100487  "
      ]
     },
     "execution_count": 82,
     "metadata": {},
     "output_type": "execute_result"
    }
   ],
   "source": [
    "future_df.tail()"
   ]
  }
 ],
 "metadata": {
  "kernelspec": {
   "display_name": "Python 3",
   "language": "python",
   "name": "python3"
  },
  "language_info": {
   "codemirror_mode": {
    "name": "ipython",
    "version": 3
   },
   "file_extension": ".py",
   "mimetype": "text/x-python",
   "name": "python",
   "nbconvert_exporter": "python",
   "pygments_lexer": "ipython3",
   "version": "3.6.13"
  }
 },
 "nbformat": 4,
 "nbformat_minor": 5
}
